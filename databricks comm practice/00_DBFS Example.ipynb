{
 "cells": [
  {
   "cell_type": "markdown",
   "metadata": {
    "application/vnd.databricks.v1+cell": {
     "cellMetadata": {},
     "inputWidgets": {},
     "nuid": "96816ed7-b08a-4ca3-abb9-f99880c3535d",
     "showTitle": false,
     "tableResultSettingsMap": {},
     "title": ""
    }
   },
   "source": [
    "\n",
    "## Overview\n",
    "\n",
    "This notebook will show you how to create and query a table or DataFrame that you uploaded to DBFS. [DBFS](https://docs.databricks.com/user-guide/dbfs-databricks-file-system.html) is a Databricks File System that allows you to store data for querying inside of Databricks. This notebook assumes that you have a file already inside of DBFS that you would like to read from.\n",
    "\n",
    "This notebook is written in **Python** so the default cell type is Python. However, you can use different languages by using the `%LANGUAGE` syntax. `Python, Scala, SQL, and R` are all supported."
   ]
  },
  {
   "cell_type": "code",
   "execution_count": 0,
   "metadata": {
    "application/vnd.databricks.v1+cell": {
     "cellMetadata": {
      "byteLimit": 2048000,
      "rowLimit": 10000
     },
     "inputWidgets": {},
     "nuid": "6482be4c-f067-47c9-b0ac-35c938b94601",
     "showTitle": false,
     "tableResultSettingsMap": {},
     "title": ""
    }
   },
   "outputs": [
    {
     "output_type": "display_data",
     "data": {
      "text/html": [
       "<style scoped>\n",
       "  .table-result-container {\n",
       "    max-height: 300px;\n",
       "    overflow: auto;\n",
       "  }\n",
       "  table, th, td {\n",
       "    border: 1px solid black;\n",
       "    border-collapse: collapse;\n",
       "  }\n",
       "  th, td {\n",
       "    padding: 5px;\n",
       "  }\n",
       "  th {\n",
       "    text-align: left;\n",
       "  }\n",
       "</style><div class='table-result-container'><table class='table-result'><thead style='background-color: white'><tr><th>_c0</th><th>_c1</th><th>_c2</th><th>_c3</th><th>_c4</th><th>_c5</th></tr></thead><tbody><tr><td>FirstName</td><td> \"LastName\"</td><td> \"StreetAddress\"</td><td> \"City\"</td><td> \"State\"</td><td> \"ZipCode\"</td></tr><tr><td>John</td><td>Doe</td><td>120 jefferson st.</td><td>Riverside</td><td> NJ</td><td> 08075</td></tr><tr><td>Jack</td><td>McGinnis</td><td>220 hobo Av.</td><td>Phila</td><td> PA</td><td>09119</td></tr><tr><td>\"John \"\"Da Man\"\"\"</td><td>Repici</td><td>120 Jefferson St.</td><td>Riverside</td><td> NJ</td><td>08075</td></tr><tr><td>Stephen</td><td>Tyler</td><td>\"7452 Terrace \"\"At the Plaza\"\" road\"</td><td>SomeTown</td><td>SD</td><td> 91234</td></tr><tr><td>null</td><td>Blankman</td><td>null</td><td>SomeTown</td><td> SD</td><td> 00298</td></tr><tr><td>\"Joan \"\"the bone\"\"</td><td> Anne\"</td><td>Jet</td><td>9th, at Terrace plc</td><td>Desert City</td><td>CO</td></tr></tbody></table></div>"
      ]
     },
     "metadata": {
      "application/vnd.databricks.v1+output": {
       "addedWidgets": {},
       "aggData": [],
       "aggError": "",
       "aggOverflow": false,
       "aggSchema": [],
       "aggSeriesLimitReached": false,
       "aggType": "",
       "arguments": {},
       "columnCustomDisplayInfos": {},
       "data": [
        [
         "FirstName",
         " \"LastName\"",
         " \"StreetAddress\"",
         " \"City\"",
         " \"State\"",
         " \"ZipCode\""
        ],
        [
         "John",
         "Doe",
         "120 jefferson st.",
         "Riverside",
         " NJ",
         " 08075"
        ],
        [
         "Jack",
         "McGinnis",
         "220 hobo Av.",
         "Phila",
         " PA",
         "09119"
        ],
        [
         "\"John \"\"Da Man\"\"\"",
         "Repici",
         "120 Jefferson St.",
         "Riverside",
         " NJ",
         "08075"
        ],
        [
         "Stephen",
         "Tyler",
         "\"7452 Terrace \"\"At the Plaza\"\" road\"",
         "SomeTown",
         "SD",
         " 91234"
        ],
        [
         null,
         "Blankman",
         null,
         "SomeTown",
         " SD",
         " 00298"
        ],
        [
         "\"Joan \"\"the bone\"\"",
         " Anne\"",
         "Jet",
         "9th, at Terrace plc",
         "Desert City",
         "CO"
        ]
       ],
       "datasetInfos": [],
       "dbfsResultPath": null,
       "isJsonSchema": true,
       "metadata": {},
       "overflow": false,
       "plotOptions": {
        "customPlotOptions": {},
        "displayType": "table",
        "pivotAggregation": null,
        "pivotColumns": null,
        "xColumns": null,
        "yColumns": null
       },
       "removedWidgets": [],
       "schema": [
        {
         "metadata": "{}",
         "name": "_c0",
         "type": "\"string\""
        },
        {
         "metadata": "{}",
         "name": "_c1",
         "type": "\"string\""
        },
        {
         "metadata": "{}",
         "name": "_c2",
         "type": "\"string\""
        },
        {
         "metadata": "{}",
         "name": "_c3",
         "type": "\"string\""
        },
        {
         "metadata": "{}",
         "name": "_c4",
         "type": "\"string\""
        },
        {
         "metadata": "{}",
         "name": "_c5",
         "type": "\"string\""
        }
       ],
       "type": "table"
      }
     },
     "output_type": "display_data"
    }
   ],
   "source": [
    "# File location and type\n",
    "file_location = \"/FileStore/tables/addresses.csv\"\n",
    "file_type = \"csv\"\n",
    "\n",
    "# CSV options\n",
    "infer_schema = \"false\"\n",
    "first_row_is_header = \"false\"\n",
    "delimiter = \",\"\n",
    "\n",
    "# The applied options are for CSV files. For other file types, these will be ignored.\n",
    "df = spark.read.format(file_type) \\\n",
    "  .option(\"inferSchema\", infer_schema) \\\n",
    "  .option(\"header\", first_row_is_header) \\\n",
    "  .option(\"sep\", delimiter) \\\n",
    "  .load(file_location)\n",
    "\n",
    "display(df)"
   ]
  },
  {
   "cell_type": "code",
   "execution_count": 0,
   "metadata": {
    "application/vnd.databricks.v1+cell": {
     "cellMetadata": {
      "byteLimit": 2048000,
      "rowLimit": 10000
     },
     "inputWidgets": {},
     "nuid": "bd82bb99-1479-4d5c-be10-8c36df0f1d44",
     "showTitle": false,
     "tableResultSettingsMap": {},
     "title": ""
    }
   },
   "outputs": [],
   "source": [
    "# Create a view or table\n",
    "\n",
    "temp_table_name = \"addresses_csv\"\n",
    "\n",
    "df.createOrReplaceTempView(temp_table_name)"
   ]
  },
  {
   "cell_type": "code",
   "execution_count": 0,
   "metadata": {
    "application/vnd.databricks.v1+cell": {
     "cellMetadata": {
      "byteLimit": 2048000,
      "implicitDf": true,
      "rowLimit": 10000
     },
     "inputWidgets": {},
     "nuid": "b5f66379-6f7f-42ec-8e82-d0e0926a1721",
     "showTitle": false,
     "tableResultSettingsMap": {},
     "title": ""
    }
   },
   "outputs": [
    {
     "output_type": "display_data",
     "data": {
      "text/html": [
       "<style scoped>\n",
       "  .table-result-container {\n",
       "    max-height: 300px;\n",
       "    overflow: auto;\n",
       "  }\n",
       "  table, th, td {\n",
       "    border: 1px solid black;\n",
       "    border-collapse: collapse;\n",
       "  }\n",
       "  th, td {\n",
       "    padding: 5px;\n",
       "  }\n",
       "  th {\n",
       "    text-align: left;\n",
       "  }\n",
       "</style><div class='table-result-container'><table class='table-result'><thead style='background-color: white'><tr><th>_c0</th><th>_c1</th><th>_c2</th><th>_c3</th><th>_c4</th><th>_c5</th></tr></thead><tbody><tr><td>FirstName</td><td> \"LastName\"</td><td> \"StreetAddress\"</td><td> \"City\"</td><td> \"State\"</td><td> \"ZipCode\"</td></tr><tr><td>John</td><td>Doe</td><td>120 jefferson st.</td><td>Riverside</td><td> NJ</td><td> 08075</td></tr><tr><td>Jack</td><td>McGinnis</td><td>220 hobo Av.</td><td>Phila</td><td> PA</td><td>09119</td></tr><tr><td>\"John \"\"Da Man\"\"\"</td><td>Repici</td><td>120 Jefferson St.</td><td>Riverside</td><td> NJ</td><td>08075</td></tr><tr><td>Stephen</td><td>Tyler</td><td>\"7452 Terrace \"\"At the Plaza\"\" road\"</td><td>SomeTown</td><td>SD</td><td> 91234</td></tr><tr><td>null</td><td>Blankman</td><td>null</td><td>SomeTown</td><td> SD</td><td> 00298</td></tr><tr><td>\"Joan \"\"the bone\"\"</td><td> Anne\"</td><td>Jet</td><td>9th, at Terrace plc</td><td>Desert City</td><td>CO</td></tr></tbody></table></div>"
      ]
     },
     "metadata": {
      "application/vnd.databricks.v1+output": {
       "addedWidgets": {},
       "aggData": [],
       "aggError": "",
       "aggOverflow": false,
       "aggSchema": [],
       "aggSeriesLimitReached": false,
       "aggType": "",
       "arguments": {},
       "columnCustomDisplayInfos": {},
       "data": [
        [
         "FirstName",
         " \"LastName\"",
         " \"StreetAddress\"",
         " \"City\"",
         " \"State\"",
         " \"ZipCode\""
        ],
        [
         "John",
         "Doe",
         "120 jefferson st.",
         "Riverside",
         " NJ",
         " 08075"
        ],
        [
         "Jack",
         "McGinnis",
         "220 hobo Av.",
         "Phila",
         " PA",
         "09119"
        ],
        [
         "\"John \"\"Da Man\"\"\"",
         "Repici",
         "120 Jefferson St.",
         "Riverside",
         " NJ",
         "08075"
        ],
        [
         "Stephen",
         "Tyler",
         "\"7452 Terrace \"\"At the Plaza\"\" road\"",
         "SomeTown",
         "SD",
         " 91234"
        ],
        [
         null,
         "Blankman",
         null,
         "SomeTown",
         " SD",
         " 00298"
        ],
        [
         "\"Joan \"\"the bone\"\"",
         " Anne\"",
         "Jet",
         "9th, at Terrace plc",
         "Desert City",
         "CO"
        ]
       ],
       "datasetInfos": [],
       "dbfsResultPath": null,
       "isJsonSchema": true,
       "metadata": {},
       "overflow": false,
       "plotOptions": {
        "customPlotOptions": {},
        "displayType": "table",
        "pivotAggregation": null,
        "pivotColumns": null,
        "xColumns": null,
        "yColumns": null
       },
       "removedWidgets": [],
       "schema": [
        {
         "metadata": "{}",
         "name": "_c0",
         "type": "\"string\""
        },
        {
         "metadata": "{}",
         "name": "_c1",
         "type": "\"string\""
        },
        {
         "metadata": "{}",
         "name": "_c2",
         "type": "\"string\""
        },
        {
         "metadata": "{}",
         "name": "_c3",
         "type": "\"string\""
        },
        {
         "metadata": "{}",
         "name": "_c4",
         "type": "\"string\""
        },
        {
         "metadata": "{}",
         "name": "_c5",
         "type": "\"string\""
        }
       ],
       "type": "table"
      }
     },
     "output_type": "display_data"
    }
   ],
   "source": [
    "%sql\n",
    "\n",
    "/* Query the created temp table in a SQL cell */\n",
    "\n",
    "select * from `addresses_csv`"
   ]
  },
  {
   "cell_type": "code",
   "execution_count": 0,
   "metadata": {
    "application/vnd.databricks.v1+cell": {
     "cellMetadata": {
      "byteLimit": 2048000,
      "rowLimit": 10000
     },
     "inputWidgets": {},
     "nuid": "db9631f6-bb4a-42ca-8a3c-0d48af932331",
     "showTitle": false,
     "tableResultSettingsMap": {},
     "title": ""
    }
   },
   "outputs": [],
   "source": [
    "# With this registered as a temp view, it will only be available to this particular notebook. If you'd like other users to be able to query this table, you can also create a table from the DataFrame.\n",
    "# Once saved, this table will persist across cluster restarts as well as allow various users across different notebooks to query this data.\n",
    "# To do so, choose your table name and uncomment the bottom line.\n",
    "\n",
    "permanent_table_name = \"addresses_csv\"\n",
    "\n",
    "df.write.format(\"parquet\").saveAsTable(permanent_table_name)"
   ]
  }
 ],
 "metadata": {
  "application/vnd.databricks.v1+notebook": {
   "dashboards": [],
   "environmentMetadata": null,
   "language": "python",
   "notebookMetadata": {
    "mostRecentlyExecutedCommandWithImplicitDF": {
     "commandId": 2865417648742858,
     "dataframes": [
      "_sqldf"
     ]
    },
    "pythonIndentUnit": 4
   },
   "notebookName": "00_DBFS Example",
   "widgets": {}
  }
 },
 "nbformat": 4,
 "nbformat_minor": 0
}
