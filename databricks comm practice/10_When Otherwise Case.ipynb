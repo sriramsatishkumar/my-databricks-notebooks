{
 "cells": [
  {
   "cell_type": "markdown",
   "metadata": {
    "application/vnd.databricks.v1+cell": {
     "cellMetadata": {
      "byteLimit": 2048000,
      "rowLimit": 10000
     },
     "inputWidgets": {},
     "nuid": "8dc84514-1d2f-4faa-9745-5fcf6c0a6ddc",
     "showTitle": false,
     "tableResultSettingsMap": {},
     "title": ""
    }
   },
   "source": [
    "#####Creating a sample dataframe"
   ]
  },
  {
   "cell_type": "code",
   "execution_count": 0,
   "metadata": {
    "application/vnd.databricks.v1+cell": {
     "cellMetadata": {
      "byteLimit": 2048000,
      "rowLimit": 10000
     },
     "inputWidgets": {},
     "nuid": "b0ddb199-15e7-4f63-8962-ecb041e432a8",
     "showTitle": false,
     "tableResultSettingsMap": {},
     "title": ""
    }
   },
   "outputs": [
    {
     "output_type": "display_data",
     "data": {
      "text/html": [
       "<style scoped>\n",
       "  .table-result-container {\n",
       "    max-height: 300px;\n",
       "    overflow: auto;\n",
       "  }\n",
       "  table, th, td {\n",
       "    border: 1px solid black;\n",
       "    border-collapse: collapse;\n",
       "  }\n",
       "  th, td {\n",
       "    padding: 5px;\n",
       "  }\n",
       "  th {\n",
       "    text-align: left;\n",
       "  }\n",
       "</style><div class='table-result-container'><table class='table-result'><thead style='background-color: white'><tr><th>name</th><th>Subject</th><th>Mark</th><th>Status</th><th>Attendance</th></tr></thead><tbody><tr><td>Raja</td><td>Science</td><td>80</td><td>P</td><td>90</td></tr><tr><td>Rakesh</td><td>Maths</td><td>90</td><td>P</td><td>70</td></tr><tr><td>Rama</td><td>English</td><td>20</td><td>F</td><td>80</td></tr><tr><td>Ramesh</td><td>Science</td><td>45</td><td>F</td><td>75</td></tr><tr><td>Rajesh</td><td>Maths</td><td>30</td><td>F</td><td>50</td></tr><tr><td>Raghav</td><td>Maths</td><td>null</td><td>NA</td><td>70</td></tr></tbody></table></div>"
      ]
     },
     "metadata": {
      "application/vnd.databricks.v1+output": {
       "addedWidgets": {},
       "aggData": [],
       "aggError": "",
       "aggOverflow": false,
       "aggSchema": [],
       "aggSeriesLimitReached": false,
       "aggType": "",
       "arguments": {},
       "columnCustomDisplayInfos": {},
       "data": [
        [
         "Raja",
         "Science",
         80,
         "P",
         90
        ],
        [
         "Rakesh",
         "Maths",
         90,
         "P",
         70
        ],
        [
         "Rama",
         "English",
         20,
         "F",
         80
        ],
        [
         "Ramesh",
         "Science",
         45,
         "F",
         75
        ],
        [
         "Rajesh",
         "Maths",
         30,
         "F",
         50
        ],
        [
         "Raghav",
         "Maths",
         null,
         "NA",
         70
        ]
       ],
       "datasetInfos": [],
       "dbfsResultPath": null,
       "isJsonSchema": true,
       "metadata": {},
       "overflow": false,
       "plotOptions": {
        "customPlotOptions": {},
        "displayType": "table",
        "pivotAggregation": null,
        "pivotColumns": null,
        "xColumns": null,
        "yColumns": null
       },
       "removedWidgets": [],
       "schema": [
        {
         "metadata": "{}",
         "name": "name",
         "type": "\"string\""
        },
        {
         "metadata": "{}",
         "name": "Subject",
         "type": "\"string\""
        },
        {
         "metadata": "{}",
         "name": "Mark",
         "type": "\"long\""
        },
        {
         "metadata": "{}",
         "name": "Status",
         "type": "\"string\""
        },
        {
         "metadata": "{}",
         "name": "Attendance",
         "type": "\"long\""
        }
       ],
       "type": "table"
      }
     },
     "output_type": "display_data"
    }
   ],
   "source": [
    "data_student = [(\"Raja\", \"Science\", 80, \"P\", 90),\n",
    "                (\"Rakesh\", \"Maths\", 90, \"P\", 70),\n",
    "                (\"Rama\", \"English\", 20, \"F\", 80),\n",
    "                (\"Ramesh\", \"Science\", 45, \"F\", 75),\n",
    "                (\"Rajesh\", \"Maths\", 30, \"F\", 50),\n",
    "                (\"Raghav\", \"Maths\", None, \"NA\", 70)]\n",
    "\n",
    "Schema = [\"name\", \"Subject\", \"Mark\", \"Status\", \"Attendance\"]\n",
    "\n",
    "df = spark.createDataFrame(data = data_student, schema = Schema)\n",
    "display(df)\n"
   ]
  },
  {
   "cell_type": "markdown",
   "metadata": {
    "application/vnd.databricks.v1+cell": {
     "cellMetadata": {
      "byteLimit": 2048000,
      "rowLimit": 10000
     },
     "inputWidgets": {},
     "nuid": "4e924a49-a467-4b8d-97b0-ad562082ce3e",
     "showTitle": false,
     "tableResultSettingsMap": {},
     "title": ""
    }
   },
   "source": [
    "##### Updating the existing column"
   ]
  },
  {
   "cell_type": "code",
   "execution_count": 0,
   "metadata": {
    "application/vnd.databricks.v1+cell": {
     "cellMetadata": {
      "byteLimit": 2048000,
      "rowLimit": 10000
     },
     "inputWidgets": {},
     "nuid": "8fb6c5f1-0a30-4b4b-901a-97a51dd5fe79",
     "showTitle": false,
     "tableResultSettingsMap": {},
     "title": ""
    }
   },
   "outputs": [
    {
     "output_type": "display_data",
     "data": {
      "text/html": [
       "<style scoped>\n",
       "  .table-result-container {\n",
       "    max-height: 300px;\n",
       "    overflow: auto;\n",
       "  }\n",
       "  table, th, td {\n",
       "    border: 1px solid black;\n",
       "    border-collapse: collapse;\n",
       "  }\n",
       "  th, td {\n",
       "    padding: 5px;\n",
       "  }\n",
       "  th {\n",
       "    text-align: left;\n",
       "  }\n",
       "</style><div class='table-result-container'><table class='table-result'><thead style='background-color: white'><tr><th>name</th><th>Subject</th><th>Mark</th><th>Status</th><th>Attendance</th></tr></thead><tbody><tr><td>Raja</td><td>Science</td><td>80</td><td>Pass</td><td>90</td></tr><tr><td>Rakesh</td><td>Maths</td><td>90</td><td>Pass</td><td>70</td></tr><tr><td>Rama</td><td>English</td><td>20</td><td>Fail</td><td>80</td></tr><tr><td>Ramesh</td><td>Science</td><td>45</td><td>Fail</td><td>75</td></tr><tr><td>Rajesh</td><td>Maths</td><td>30</td><td>Fail</td><td>50</td></tr><tr><td>Raghav</td><td>Maths</td><td>null</td><td>Absentee</td><td>70</td></tr></tbody></table></div>"
      ]
     },
     "metadata": {
      "application/vnd.databricks.v1+output": {
       "addedWidgets": {},
       "aggData": [],
       "aggError": "",
       "aggOverflow": false,
       "aggSchema": [],
       "aggSeriesLimitReached": false,
       "aggType": "",
       "arguments": {},
       "columnCustomDisplayInfos": {},
       "data": [
        [
         "Raja",
         "Science",
         80,
         "Pass",
         90
        ],
        [
         "Rakesh",
         "Maths",
         90,
         "Pass",
         70
        ],
        [
         "Rama",
         "English",
         20,
         "Fail",
         80
        ],
        [
         "Ramesh",
         "Science",
         45,
         "Fail",
         75
        ],
        [
         "Rajesh",
         "Maths",
         30,
         "Fail",
         50
        ],
        [
         "Raghav",
         "Maths",
         null,
         "Absentee",
         70
        ]
       ],
       "datasetInfos": [],
       "dbfsResultPath": null,
       "isJsonSchema": true,
       "metadata": {},
       "overflow": false,
       "plotOptions": {
        "customPlotOptions": {},
        "displayType": "table",
        "pivotAggregation": null,
        "pivotColumns": null,
        "xColumns": null,
        "yColumns": null
       },
       "removedWidgets": [],
       "schema": [
        {
         "metadata": "{}",
         "name": "name",
         "type": "\"string\""
        },
        {
         "metadata": "{}",
         "name": "Subject",
         "type": "\"string\""
        },
        {
         "metadata": "{}",
         "name": "Mark",
         "type": "\"long\""
        },
        {
         "metadata": "{}",
         "name": "Status",
         "type": "\"string\""
        },
        {
         "metadata": "{}",
         "name": "Attendance",
         "type": "\"long\""
        }
       ],
       "type": "table"
      }
     },
     "output_type": "display_data"
    }
   ],
   "source": [
    "from pyspark.sql.functions import when\n",
    "\n",
    "df1 = df.withColumn(\"Status\", when(df.Mark >= 50, \"Pass\").when(df.Mark <50, \"Fail\").otherwise(\"Absentee\"))\n",
    "                    \n",
    "display(df1)"
   ]
  },
  {
   "cell_type": "markdown",
   "metadata": {
    "application/vnd.databricks.v1+cell": {
     "cellMetadata": {
      "byteLimit": 2048000,
      "rowLimit": 10000
     },
     "inputWidgets": {},
     "nuid": "0dd0b862-ce17-415b-8e72-29ea8da1629a",
     "showTitle": false,
     "tableResultSettingsMap": {},
     "title": ""
    }
   },
   "source": [
    "##### Create a new column"
   ]
  },
  {
   "cell_type": "code",
   "execution_count": 0,
   "metadata": {
    "application/vnd.databricks.v1+cell": {
     "cellMetadata": {
      "byteLimit": 2048000,
      "rowLimit": 10000
     },
     "inputWidgets": {},
     "nuid": "e822ba07-2b6c-4996-a5ad-eebc4f8f6103",
     "showTitle": false,
     "tableResultSettingsMap": {},
     "title": ""
    }
   },
   "outputs": [
    {
     "output_type": "display_data",
     "data": {
      "text/html": [
       "<style scoped>\n",
       "  .table-result-container {\n",
       "    max-height: 300px;\n",
       "    overflow: auto;\n",
       "  }\n",
       "  table, th, td {\n",
       "    border: 1px solid black;\n",
       "    border-collapse: collapse;\n",
       "  }\n",
       "  th, td {\n",
       "    padding: 5px;\n",
       "  }\n",
       "  th {\n",
       "    text-align: left;\n",
       "  }\n",
       "</style><div class='table-result-container'><table class='table-result'><thead style='background-color: white'><tr><th>name</th><th>Subject</th><th>Mark</th><th>Status</th><th>Attendance</th><th>New_status</th></tr></thead><tbody><tr><td>Raja</td><td>Science</td><td>80</td><td>P</td><td>90</td><td>Pass</td></tr><tr><td>Rakesh</td><td>Maths</td><td>90</td><td>P</td><td>70</td><td>Pass</td></tr><tr><td>Rama</td><td>English</td><td>20</td><td>F</td><td>80</td><td>Fail</td></tr><tr><td>Ramesh</td><td>Science</td><td>45</td><td>F</td><td>75</td><td>Fail</td></tr><tr><td>Rajesh</td><td>Maths</td><td>30</td><td>F</td><td>50</td><td>Fail</td></tr><tr><td>Raghav</td><td>Maths</td><td>null</td><td>NA</td><td>70</td><td>Absentee</td></tr></tbody></table></div>"
      ]
     },
     "metadata": {
      "application/vnd.databricks.v1+output": {
       "addedWidgets": {},
       "aggData": [],
       "aggError": "",
       "aggOverflow": false,
       "aggSchema": [],
       "aggSeriesLimitReached": false,
       "aggType": "",
       "arguments": {},
       "columnCustomDisplayInfos": {},
       "data": [
        [
         "Raja",
         "Science",
         80,
         "P",
         90,
         "Pass"
        ],
        [
         "Rakesh",
         "Maths",
         90,
         "P",
         70,
         "Pass"
        ],
        [
         "Rama",
         "English",
         20,
         "F",
         80,
         "Fail"
        ],
        [
         "Ramesh",
         "Science",
         45,
         "F",
         75,
         "Fail"
        ],
        [
         "Rajesh",
         "Maths",
         30,
         "F",
         50,
         "Fail"
        ],
        [
         "Raghav",
         "Maths",
         null,
         "NA",
         70,
         "Absentee"
        ]
       ],
       "datasetInfos": [],
       "dbfsResultPath": null,
       "isJsonSchema": true,
       "metadata": {},
       "overflow": false,
       "plotOptions": {
        "customPlotOptions": {},
        "displayType": "table",
        "pivotAggregation": null,
        "pivotColumns": null,
        "xColumns": null,
        "yColumns": null
       },
       "removedWidgets": [],
       "schema": [
        {
         "metadata": "{}",
         "name": "name",
         "type": "\"string\""
        },
        {
         "metadata": "{}",
         "name": "Subject",
         "type": "\"string\""
        },
        {
         "metadata": "{}",
         "name": "Mark",
         "type": "\"long\""
        },
        {
         "metadata": "{}",
         "name": "Status",
         "type": "\"string\""
        },
        {
         "metadata": "{}",
         "name": "Attendance",
         "type": "\"long\""
        },
        {
         "metadata": "{}",
         "name": "New_status",
         "type": "\"string\""
        }
       ],
       "type": "table"
      }
     },
     "output_type": "display_data"
    }
   ],
   "source": [
    "from pyspark.sql.functions import when\n",
    "\n",
    "df2 = df.withColumn(\"New_status\", when(df.Mark >= 50, \"Pass\").when(df.Mark < 50, \"Fail\").otherwise(\"Absentee\"))\n",
    "                    \n",
    "display(df2)"
   ]
  },
  {
   "cell_type": "markdown",
   "metadata": {
    "application/vnd.databricks.v1+cell": {
     "cellMetadata": {
      "byteLimit": 2048000,
      "rowLimit": 10000
     },
     "inputWidgets": {},
     "nuid": "3e840da6-f30a-4f8e-8fa6-7bc9d5052604",
     "showTitle": false,
     "tableResultSettingsMap": {},
     "title": ""
    }
   },
   "source": [
    "##### update existing column using case"
   ]
  },
  {
   "cell_type": "code",
   "execution_count": 0,
   "metadata": {
    "application/vnd.databricks.v1+cell": {
     "cellMetadata": {
      "byteLimit": 2048000,
      "rowLimit": 10000
     },
     "inputWidgets": {},
     "nuid": "ff4288af-ec8c-43d8-9508-8639f02a4d90",
     "showTitle": false,
     "tableResultSettingsMap": {},
     "title": ""
    }
   },
   "outputs": [
    {
     "output_type": "display_data",
     "data": {
      "text/html": [
       "<style scoped>\n",
       "  .table-result-container {\n",
       "    max-height: 300px;\n",
       "    overflow: auto;\n",
       "  }\n",
       "  table, th, td {\n",
       "    border: 1px solid black;\n",
       "    border-collapse: collapse;\n",
       "  }\n",
       "  th, td {\n",
       "    padding: 5px;\n",
       "  }\n",
       "  th {\n",
       "    text-align: left;\n",
       "  }\n",
       "</style><div class='table-result-container'><table class='table-result'><thead style='background-color: white'><tr><th>name</th><th>Subject</th><th>Mark</th><th>Status</th><th>Attendance</th></tr></thead><tbody><tr><td>Raja</td><td>Science</td><td>80</td><td>PASS</td><td>90</td></tr><tr><td>Rakesh</td><td>Maths</td><td>90</td><td>PASS</td><td>70</td></tr><tr><td>Rama</td><td>English</td><td>20</td><td>FAIL</td><td>80</td></tr><tr><td>Ramesh</td><td>Science</td><td>45</td><td>FAIL</td><td>75</td></tr><tr><td>Rajesh</td><td>Maths</td><td>30</td><td>FAIL</td><td>50</td></tr><tr><td>Raghav</td><td>Maths</td><td>null</td><td>Absentee</td><td>70</td></tr></tbody></table></div>"
      ]
     },
     "metadata": {
      "application/vnd.databricks.v1+output": {
       "addedWidgets": {},
       "aggData": [],
       "aggError": "",
       "aggOverflow": false,
       "aggSchema": [],
       "aggSeriesLimitReached": false,
       "aggType": "",
       "arguments": {},
       "columnCustomDisplayInfos": {},
       "data": [
        [
         "Raja",
         "Science",
         80,
         "PASS",
         90
        ],
        [
         "Rakesh",
         "Maths",
         90,
         "PASS",
         70
        ],
        [
         "Rama",
         "English",
         20,
         "FAIL",
         80
        ],
        [
         "Ramesh",
         "Science",
         45,
         "FAIL",
         75
        ],
        [
         "Rajesh",
         "Maths",
         30,
         "FAIL",
         50
        ],
        [
         "Raghav",
         "Maths",
         null,
         "Absentee",
         70
        ]
       ],
       "datasetInfos": [],
       "dbfsResultPath": null,
       "isJsonSchema": true,
       "metadata": {},
       "overflow": false,
       "plotOptions": {
        "customPlotOptions": {},
        "displayType": "table",
        "pivotAggregation": null,
        "pivotColumns": null,
        "xColumns": null,
        "yColumns": null
       },
       "removedWidgets": [],
       "schema": [
        {
         "metadata": "{}",
         "name": "name",
         "type": "\"string\""
        },
        {
         "metadata": "{}",
         "name": "Subject",
         "type": "\"string\""
        },
        {
         "metadata": "{}",
         "name": "Mark",
         "type": "\"long\""
        },
        {
         "metadata": "{}",
         "name": "Status",
         "type": "\"string\""
        },
        {
         "metadata": "{}",
         "name": "Attendance",
         "type": "\"long\""
        }
       ],
       "type": "table"
      }
     },
     "output_type": "display_data"
    }
   ],
   "source": [
    "from pyspark.sql.functions import expr\n",
    "\n",
    "df3 = df.withColumn(\"Status\", expr(\"CASE WHEN Mark >= 50 THEN 'PASS' \"\n",
    "                                        + \"WHEN Mark < 50 THEN 'FAIL' \"\n",
    "                                        + \"ELSE 'Absentee' END\"))\n",
    "display(df3)"
   ]
  },
  {
   "cell_type": "markdown",
   "metadata": {
    "application/vnd.databricks.v1+cell": {
     "cellMetadata": {
      "byteLimit": 2048000,
      "rowLimit": 10000
     },
     "inputWidgets": {},
     "nuid": "c2eacb4d-8932-49ef-86d4-b4c95fc6f5cd",
     "showTitle": false,
     "tableResultSettingsMap": {},
     "title": ""
    }
   },
   "source": [
    "##### creating a new columns using case"
   ]
  },
  {
   "cell_type": "code",
   "execution_count": 0,
   "metadata": {
    "application/vnd.databricks.v1+cell": {
     "cellMetadata": {
      "byteLimit": 2048000,
      "rowLimit": 10000
     },
     "inputWidgets": {},
     "nuid": "4a6c0b6f-91fa-48b4-9d73-36d6e80c5578",
     "showTitle": false,
     "tableResultSettingsMap": {},
     "title": ""
    }
   },
   "outputs": [
    {
     "output_type": "display_data",
     "data": {
      "text/html": [
       "<style scoped>\n",
       "  .table-result-container {\n",
       "    max-height: 300px;\n",
       "    overflow: auto;\n",
       "  }\n",
       "  table, th, td {\n",
       "    border: 1px solid black;\n",
       "    border-collapse: collapse;\n",
       "  }\n",
       "  th, td {\n",
       "    padding: 5px;\n",
       "  }\n",
       "  th {\n",
       "    text-align: left;\n",
       "  }\n",
       "</style><div class='table-result-container'><table class='table-result'><thead style='background-color: white'><tr><th>name</th><th>Subject</th><th>Mark</th><th>Status</th><th>Attendance</th><th>New_status</th></tr></thead><tbody><tr><td>Raja</td><td>Science</td><td>80</td><td>P</td><td>90</td><td>PASS</td></tr><tr><td>Rakesh</td><td>Maths</td><td>90</td><td>P</td><td>70</td><td>PASS</td></tr><tr><td>Rama</td><td>English</td><td>20</td><td>F</td><td>80</td><td>FAIL</td></tr><tr><td>Ramesh</td><td>Science</td><td>45</td><td>F</td><td>75</td><td>FAIL</td></tr><tr><td>Rajesh</td><td>Maths</td><td>30</td><td>F</td><td>50</td><td>FAIL</td></tr><tr><td>Raghav</td><td>Maths</td><td>null</td><td>NA</td><td>70</td><td>Absentee</td></tr></tbody></table></div>"
      ]
     },
     "metadata": {
      "application/vnd.databricks.v1+output": {
       "addedWidgets": {},
       "aggData": [],
       "aggError": "",
       "aggOverflow": false,
       "aggSchema": [],
       "aggSeriesLimitReached": false,
       "aggType": "",
       "arguments": {},
       "columnCustomDisplayInfos": {},
       "data": [
        [
         "Raja",
         "Science",
         80,
         "P",
         90,
         "PASS"
        ],
        [
         "Rakesh",
         "Maths",
         90,
         "P",
         70,
         "PASS"
        ],
        [
         "Rama",
         "English",
         20,
         "F",
         80,
         "FAIL"
        ],
        [
         "Ramesh",
         "Science",
         45,
         "F",
         75,
         "FAIL"
        ],
        [
         "Rajesh",
         "Maths",
         30,
         "F",
         50,
         "FAIL"
        ],
        [
         "Raghav",
         "Maths",
         null,
         "NA",
         70,
         "Absentee"
        ]
       ],
       "datasetInfos": [],
       "dbfsResultPath": null,
       "isJsonSchema": true,
       "metadata": {},
       "overflow": false,
       "plotOptions": {
        "customPlotOptions": {},
        "displayType": "table",
        "pivotAggregation": null,
        "pivotColumns": null,
        "xColumns": null,
        "yColumns": null
       },
       "removedWidgets": [],
       "schema": [
        {
         "metadata": "{}",
         "name": "name",
         "type": "\"string\""
        },
        {
         "metadata": "{}",
         "name": "Subject",
         "type": "\"string\""
        },
        {
         "metadata": "{}",
         "name": "Mark",
         "type": "\"long\""
        },
        {
         "metadata": "{}",
         "name": "Status",
         "type": "\"string\""
        },
        {
         "metadata": "{}",
         "name": "Attendance",
         "type": "\"long\""
        },
        {
         "metadata": "{}",
         "name": "New_status",
         "type": "\"string\""
        }
       ],
       "type": "table"
      }
     },
     "output_type": "display_data"
    }
   ],
   "source": [
    "from pyspark.sql.functions import expr\n",
    "\n",
    "df4 = df.withColumn(\"New_status\", expr(\"CASE WHEN Mark >= 50 THEN 'PASS' \"\n",
    "                                        + \"WHEN Mark < 50 THEN 'FAIL' \"\n",
    "                                        + \"ELSE 'Absentee' END\"))\n",
    "display(df4)"
   ]
  },
  {
   "cell_type": "markdown",
   "metadata": {
    "application/vnd.databricks.v1+cell": {
     "cellMetadata": {
      "byteLimit": 2048000,
      "rowLimit": 10000
     },
     "inputWidgets": {},
     "nuid": "0d86a384-f250-45ee-a169-612a3c2f0fff",
     "showTitle": false,
     "tableResultSettingsMap": {},
     "title": ""
    }
   },
   "source": [
    "##### using multiple conditions & or |"
   ]
  },
  {
   "cell_type": "code",
   "execution_count": 0,
   "metadata": {
    "application/vnd.databricks.v1+cell": {
     "cellMetadata": {
      "byteLimit": 2048000,
      "rowLimit": 10000
     },
     "inputWidgets": {},
     "nuid": "c423fbe0-d340-41d0-aaf6-17e25cdd38be",
     "showTitle": false,
     "tableResultSettingsMap": {},
     "title": ""
    }
   },
   "outputs": [
    {
     "output_type": "display_data",
     "data": {
      "text/plain": [
       ""
      ]
     },
     "metadata": {
      "application/vnd.databricks.v1+output": {
       "arguments": {},
       "data": "",
       "errorSummary": "Command skipped",
       "errorTraceType": "ansi",
       "metadata": {},
       "type": "ipynbError"
      }
     },
     "output_type": "display_data"
    }
   ],
   "source": [
    "from pyspark.sql.functions import when\n",
    "\n",
    "df5 = df.withColumn(\"Grade\", when((df.Mark >= 80) & (df.Attendance >=80), \"Distinction\")\n",
    "                .when((df.Mark >= 50) & (df.Attendance >=50), \"Good\")\n",
    "                .otherwise(\"Average\"))\n",
    "\n",
    "display(df5)"
   ]
  }
 ],
 "metadata": {
  "application/vnd.databricks.v1+notebook": {
   "dashboards": [],
   "environmentMetadata": null,
   "language": "python",
   "notebookMetadata": {
    "pythonIndentUnit": 4
   },
   "notebookName": "10_When Otherwise Case",
   "widgets": {}
  }
 },
 "nbformat": 4,
 "nbformat_minor": 0
}
