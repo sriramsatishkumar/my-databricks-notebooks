{
 "cells": [
  {
   "cell_type": "code",
   "execution_count": 0,
   "metadata": {
    "application/vnd.databricks.v1+cell": {
     "cellMetadata": {
      "byteLimit": 2048000,
      "rowLimit": 10000
     },
     "inputWidgets": {},
     "nuid": "282ca25a-7fa5-420e-980c-433e26629099",
     "showTitle": false,
     "tableResultSettingsMap": {},
     "title": ""
    }
   },
   "outputs": [
    {
     "output_type": "display_data",
     "data": {
      "text/html": [
       "<style scoped>\n",
       "  .table-result-container {\n",
       "    max-height: 300px;\n",
       "    overflow: auto;\n",
       "  }\n",
       "  table, th, td {\n",
       "    border: 1px solid black;\n",
       "    border-collapse: collapse;\n",
       "  }\n",
       "  th, td {\n",
       "    padding: 5px;\n",
       "  }\n",
       "  th {\n",
       "    text-align: left;\n",
       "  }\n",
       "</style><div class='table-result-container'><table class='table-result'><thead style='background-color: white'><tr><th>employee_id</th><th>name</th><th>doj</th><th>employee_dept_id</th><th>gender</th><th>salary</th></tr></thead><tbody><tr><td>10</td><td>Raj Kumar</td><td>1999</td><td>100</td><td>M</td><td>2000</td></tr><tr><td>20</td><td>Rahul Rajan</td><td>2002</td><td>200</td><td>F</td><td>8000</td></tr><tr><td>30</td><td>Raghav</td><td>2010</td><td>100</td><td>null</td><td>6000</td></tr><tr><td>40</td><td>Raja Singh</td><td>2004</td><td>100</td><td>F</td><td>7000</td></tr><tr><td>50</td><td>Rama Krish</td><td>2008</td><td>400</td><td>M</td><td>1000</td></tr><tr><td>60</td><td>RasuL</td><td>2014</td><td>500</td><td>M</td><td>5000</td></tr><tr><td>70</td><td>Kumar Chand</td><td>2004</td><td>600</td><td>M</td><td>5000</td></tr></tbody></table></div>"
      ]
     },
     "metadata": {
      "application/vnd.databricks.v1+output": {
       "addedWidgets": {},
       "aggData": [],
       "aggError": "",
       "aggOverflow": false,
       "aggSchema": [],
       "aggSeriesLimitReached": false,
       "aggType": "",
       "arguments": {},
       "columnCustomDisplayInfos": {},
       "data": [
        [
         10,
         "Raj Kumar",
         "1999",
         "100",
         "M",
         2000
        ],
        [
         20,
         "Rahul Rajan",
         "2002",
         "200",
         "F",
         8000
        ],
        [
         30,
         "Raghav",
         "2010",
         "100",
         null,
         6000
        ],
        [
         40,
         "Raja Singh",
         "2004",
         "100",
         "F",
         7000
        ],
        [
         50,
         "Rama Krish",
         "2008",
         "400",
         "M",
         1000
        ],
        [
         60,
         "RasuL",
         "2014",
         "500",
         "M",
         5000
        ],
        [
         70,
         "Kumar Chand",
         "2004",
         "600",
         "M",
         5000
        ]
       ],
       "datasetInfos": [],
       "dbfsResultPath": null,
       "isJsonSchema": true,
       "metadata": {},
       "overflow": false,
       "plotOptions": {
        "customPlotOptions": {},
        "displayType": "table",
        "pivotAggregation": null,
        "pivotColumns": null,
        "xColumns": null,
        "yColumns": null
       },
       "removedWidgets": [],
       "schema": [
        {
         "metadata": "{}",
         "name": "employee_id",
         "type": "\"long\""
        },
        {
         "metadata": "{}",
         "name": "name",
         "type": "\"string\""
        },
        {
         "metadata": "{}",
         "name": "doj",
         "type": "\"string\""
        },
        {
         "metadata": "{}",
         "name": "employee_dept_id",
         "type": "\"string\""
        },
        {
         "metadata": "{}",
         "name": "gender",
         "type": "\"string\""
        },
        {
         "metadata": "{}",
         "name": "salary",
         "type": "\"long\""
        }
       ],
       "type": "table"
      }
     },
     "output_type": "display_data"
    }
   ],
   "source": [
    "employee_data = [(10,\"Raj Kumar\",\"1999\",\"100\",\"M\",2000),\n",
    "                 (20,\"Rahul Rajan\",\"2002\",\"200\",\"F\",8000),\n",
    "                 (30,\"Raghav\",\"2010\",\"100\",None,6000),\n",
    "                 (40,\"Raja Singh\",\"2004\",\"100\",\"F\",7000),\n",
    "                 (50,\"Rama Krish\",\"2008\",\"400\",\"M\",1000),\n",
    "                 (60,\"RasuL\",\"2014\",\"500\",\"M\",5000),\n",
    "                 (70,\"Kumar Chand\",\"2004\",\"600\",\"M\",5000)\n",
    "                ]\n",
    "\n",
    "employee_schema = (\"employee_id\", \"name\",\"doj\",\"employee_dept_id\",\"gender\",\"salary\")\n",
    "\n",
    "employeeDF = spark.createDataFrame(data = employee_data, schema = employee_schema)\n",
    "\n",
    "display(employeeDF)"
   ]
  },
  {
   "cell_type": "code",
   "execution_count": 0,
   "metadata": {
    "application/vnd.databricks.v1+cell": {
     "cellMetadata": {
      "byteLimit": 2048000,
      "rowLimit": 10000
     },
     "inputWidgets": {},
     "nuid": "e3fe6465-aaab-42a2-bf06-d8c1731705be",
     "showTitle": false,
     "tableResultSettingsMap": {},
     "title": ""
    }
   },
   "outputs": [
    {
     "output_type": "display_data",
     "data": {
      "text/html": [
       "<style scoped>\n",
       "  .table-result-container {\n",
       "    max-height: 300px;\n",
       "    overflow: auto;\n",
       "  }\n",
       "  table, th, td {\n",
       "    border: 1px solid black;\n",
       "    border-collapse: collapse;\n",
       "  }\n",
       "  th, td {\n",
       "    padding: 5px;\n",
       "  }\n",
       "  th {\n",
       "    text-align: left;\n",
       "  }\n",
       "</style><div class='table-result-container'><table class='table-result'><thead style='background-color: white'><tr><th>employee_id</th><th>name</th><th>doj</th><th>employee_dept_id</th><th>gender</th><th>salary</th><th>place</th></tr></thead><tbody><tr><td>10</td><td>Raj Kumar</td><td>1999</td><td>100</td><td>M</td><td>2000</td><td>mumbai</td></tr><tr><td>20</td><td>Rahul Rajan</td><td>2002</td><td>200</td><td>F</td><td>8000</td><td>mumbai</td></tr><tr><td>30</td><td>Raghav</td><td>2010</td><td>100</td><td>null</td><td>6000</td><td>mumbai</td></tr><tr><td>40</td><td>Raja Singh</td><td>2004</td><td>100</td><td>F</td><td>7000</td><td>mumbai</td></tr><tr><td>50</td><td>Rama Krish</td><td>2008</td><td>400</td><td>M</td><td>1000</td><td>mumbai</td></tr><tr><td>60</td><td>RasuL</td><td>2014</td><td>500</td><td>M</td><td>5000</td><td>mumbai</td></tr><tr><td>70</td><td>Kumar Chand</td><td>2004</td><td>600</td><td>M</td><td>5000</td><td>mumbai</td></tr></tbody></table></div>"
      ]
     },
     "metadata": {
      "application/vnd.databricks.v1+output": {
       "addedWidgets": {},
       "aggData": [],
       "aggError": "",
       "aggOverflow": false,
       "aggSchema": [],
       "aggSeriesLimitReached": false,
       "aggType": "",
       "arguments": {},
       "columnCustomDisplayInfos": {},
       "data": [
        [
         10,
         "Raj Kumar",
         "1999",
         "100",
         "M",
         2000,
         "mumbai"
        ],
        [
         20,
         "Rahul Rajan",
         "2002",
         "200",
         "F",
         8000,
         "mumbai"
        ],
        [
         30,
         "Raghav",
         "2010",
         "100",
         null,
         6000,
         "mumbai"
        ],
        [
         40,
         "Raja Singh",
         "2004",
         "100",
         "F",
         7000,
         "mumbai"
        ],
        [
         50,
         "Rama Krish",
         "2008",
         "400",
         "M",
         1000,
         "mumbai"
        ],
        [
         60,
         "RasuL",
         "2014",
         "500",
         "M",
         5000,
         "mumbai"
        ],
        [
         70,
         "Kumar Chand",
         "2004",
         "600",
         "M",
         5000,
         "mumbai"
        ]
       ],
       "datasetInfos": [],
       "dbfsResultPath": null,
       "isJsonSchema": true,
       "metadata": {},
       "overflow": false,
       "plotOptions": {
        "customPlotOptions": {},
        "displayType": "table",
        "pivotAggregation": null,
        "pivotColumns": null,
        "xColumns": null,
        "yColumns": null
       },
       "removedWidgets": [],
       "schema": [
        {
         "metadata": "{}",
         "name": "employee_id",
         "type": "\"long\""
        },
        {
         "metadata": "{}",
         "name": "name",
         "type": "\"string\""
        },
        {
         "metadata": "{}",
         "name": "doj",
         "type": "\"string\""
        },
        {
         "metadata": "{}",
         "name": "employee_dept_id",
         "type": "\"string\""
        },
        {
         "metadata": "{}",
         "name": "gender",
         "type": "\"string\""
        },
        {
         "metadata": "{}",
         "name": "salary",
         "type": "\"long\""
        },
        {
         "metadata": "{}",
         "name": "place",
         "type": "\"string\""
        }
       ],
       "type": "table"
      }
     },
     "output_type": "display_data"
    }
   ],
   "source": [
    "from pyspark.sql.functions import lit\n",
    "\n",
    "addcolDF = employeeDF.withColumn(\"place\", lit(\"mumbai\"))\n",
    "display(addcolDF)\n",
    "#to add a column df.withColumn(\"columnname\",value)\n",
    "#to add a value we are using lit function from pyspark.sql.funtions"
   ]
  },
  {
   "cell_type": "code",
   "execution_count": 0,
   "metadata": {
    "application/vnd.databricks.v1+cell": {
     "cellMetadata": {
      "byteLimit": 2048000,
      "rowLimit": 10000
     },
     "inputWidgets": {},
     "nuid": "449eb565-dbda-4cbc-aaaa-d8d7eac904d5",
     "showTitle": false,
     "tableResultSettingsMap": {},
     "title": ""
    }
   },
   "outputs": [
    {
     "output_type": "display_data",
     "data": {
      "text/html": [
       "<style scoped>\n",
       "  .table-result-container {\n",
       "    max-height: 300px;\n",
       "    overflow: auto;\n",
       "  }\n",
       "  table, th, td {\n",
       "    border: 1px solid black;\n",
       "    border-collapse: collapse;\n",
       "  }\n",
       "  th, td {\n",
       "    padding: 5px;\n",
       "  }\n",
       "  th {\n",
       "    text-align: left;\n",
       "  }\n",
       "</style><div class='table-result-container'><table class='table-result'><thead style='background-color: white'><tr><th>employee_id</th><th>name</th><th>doj</th><th>employee_dept_id</th><th>gender</th><th>salary</th><th>place</th><th>bonus</th><th>testcol</th></tr></thead><tbody><tr><td>10</td><td>Raj Kumar</td><td>1999</td><td>100</td><td>M</td><td>2000</td><td>mumbai</td><td>400.0</td><td>anyvalue</td></tr><tr><td>20</td><td>Rahul Rajan</td><td>2002</td><td>200</td><td>F</td><td>8000</td><td>mumbai</td><td>1600.0</td><td>anyvalue</td></tr><tr><td>30</td><td>Raghav</td><td>2010</td><td>100</td><td>null</td><td>6000</td><td>mumbai</td><td>1200.0</td><td>anyvalue</td></tr><tr><td>40</td><td>Raja Singh</td><td>2004</td><td>100</td><td>F</td><td>7000</td><td>mumbai</td><td>1400.0</td><td>anyvalue</td></tr><tr><td>50</td><td>Rama Krish</td><td>2008</td><td>400</td><td>M</td><td>1000</td><td>mumbai</td><td>200.0</td><td>anyvalue</td></tr><tr><td>60</td><td>RasuL</td><td>2014</td><td>500</td><td>M</td><td>5000</td><td>mumbai</td><td>1000.0</td><td>anyvalue</td></tr><tr><td>70</td><td>Kumar Chand</td><td>2004</td><td>600</td><td>M</td><td>5000</td><td>mumbai</td><td>1000.0</td><td>anyvalue</td></tr></tbody></table></div>"
      ]
     },
     "metadata": {
      "application/vnd.databricks.v1+output": {
       "addedWidgets": {},
       "aggData": [],
       "aggError": "",
       "aggOverflow": false,
       "aggSchema": [],
       "aggSeriesLimitReached": false,
       "aggType": "",
       "arguments": {},
       "columnCustomDisplayInfos": {},
       "data": [
        [
         10,
         "Raj Kumar",
         "1999",
         "100",
         "M",
         2000,
         "mumbai",
         400.0,
         "anyvalue"
        ],
        [
         20,
         "Rahul Rajan",
         "2002",
         "200",
         "F",
         8000,
         "mumbai",
         1600.0,
         "anyvalue"
        ],
        [
         30,
         "Raghav",
         "2010",
         "100",
         null,
         6000,
         "mumbai",
         1200.0,
         "anyvalue"
        ],
        [
         40,
         "Raja Singh",
         "2004",
         "100",
         "F",
         7000,
         "mumbai",
         1400.0,
         "anyvalue"
        ],
        [
         50,
         "Rama Krish",
         "2008",
         "400",
         "M",
         1000,
         "mumbai",
         200.0,
         "anyvalue"
        ],
        [
         60,
         "RasuL",
         "2014",
         "500",
         "M",
         5000,
         "mumbai",
         1000.0,
         "anyvalue"
        ],
        [
         70,
         "Kumar Chand",
         "2004",
         "600",
         "M",
         5000,
         "mumbai",
         1000.0,
         "anyvalue"
        ]
       ],
       "datasetInfos": [],
       "dbfsResultPath": null,
       "isJsonSchema": true,
       "metadata": {},
       "overflow": false,
       "plotOptions": {
        "customPlotOptions": {},
        "displayType": "table",
        "pivotAggregation": null,
        "pivotColumns": null,
        "xColumns": null,
        "yColumns": null
       },
       "removedWidgets": [],
       "schema": [
        {
         "metadata": "{}",
         "name": "employee_id",
         "type": "\"long\""
        },
        {
         "metadata": "{}",
         "name": "name",
         "type": "\"string\""
        },
        {
         "metadata": "{}",
         "name": "doj",
         "type": "\"string\""
        },
        {
         "metadata": "{}",
         "name": "employee_dept_id",
         "type": "\"string\""
        },
        {
         "metadata": "{}",
         "name": "gender",
         "type": "\"string\""
        },
        {
         "metadata": "{}",
         "name": "salary",
         "type": "\"long\""
        },
        {
         "metadata": "{}",
         "name": "place",
         "type": "\"string\""
        },
        {
         "metadata": "{}",
         "name": "bonus",
         "type": "\"double\""
        },
        {
         "metadata": "{}",
         "name": "testcol",
         "type": "\"string\""
        }
       ],
       "type": "table"
      }
     },
     "output_type": "display_data"
    }
   ],
   "source": [
    "from pyspark.sql.functions import lit\n",
    "#bonus_df = addcolDF.withColumn(\"bonus\", (addcolDF.salary * 0.2))\n",
    "bonus_df = addcolDF.withColumn(\"bonus\", (addcolDF.salary * 0.2)).withColumn(\"testcol\",lit(\"anyvalue\"))\n",
    "display(bonus_df)"
   ]
  },
  {
   "cell_type": "code",
   "execution_count": 0,
   "metadata": {
    "application/vnd.databricks.v1+cell": {
     "cellMetadata": {
      "byteLimit": 2048000,
      "rowLimit": 10000
     },
     "inputWidgets": {},
     "nuid": "fb1ce88c-b981-4998-bcd4-fbd59819ea5d",
     "showTitle": false,
     "tableResultSettingsMap": {},
     "title": ""
    }
   },
   "outputs": [
    {
     "output_type": "display_data",
     "data": {
      "text/html": [
       "<style scoped>\n",
       "  .table-result-container {\n",
       "    max-height: 300px;\n",
       "    overflow: auto;\n",
       "  }\n",
       "  table, th, td {\n",
       "    border: 1px solid black;\n",
       "    border-collapse: collapse;\n",
       "  }\n",
       "  th, td {\n",
       "    padding: 5px;\n",
       "  }\n",
       "  th {\n",
       "    text-align: left;\n",
       "  }\n",
       "</style><div class='table-result-container'><table class='table-result'><thead style='background-color: white'><tr><th>employee_id</th><th>name</th><th>doj</th><th>employee_dept_id</th><th>gender</th><th>salary</th><th>place</th><th>bonus</th><th>testcol</th><th>fullname</th></tr></thead><tbody><tr><td>10</td><td>Raj Kumar</td><td>1999</td><td>100</td><td>M</td><td>2000</td><td>mumbai</td><td>400.0</td><td>anyvalue</td><td>Raj Kumar 10</td></tr><tr><td>20</td><td>Rahul Rajan</td><td>2002</td><td>200</td><td>F</td><td>8000</td><td>mumbai</td><td>1600.0</td><td>anyvalue</td><td>Rahul Rajan 20</td></tr><tr><td>30</td><td>Raghav</td><td>2010</td><td>100</td><td>null</td><td>6000</td><td>mumbai</td><td>1200.0</td><td>anyvalue</td><td>Raghav 30</td></tr><tr><td>40</td><td>Raja Singh</td><td>2004</td><td>100</td><td>F</td><td>7000</td><td>mumbai</td><td>1400.0</td><td>anyvalue</td><td>Raja Singh 40</td></tr><tr><td>50</td><td>Rama Krish</td><td>2008</td><td>400</td><td>M</td><td>1000</td><td>mumbai</td><td>200.0</td><td>anyvalue</td><td>Rama Krish 50</td></tr><tr><td>60</td><td>RasuL</td><td>2014</td><td>500</td><td>M</td><td>5000</td><td>mumbai</td><td>1000.0</td><td>anyvalue</td><td>RasuL 60</td></tr><tr><td>70</td><td>Kumar Chand</td><td>2004</td><td>600</td><td>M</td><td>5000</td><td>mumbai</td><td>1000.0</td><td>anyvalue</td><td>Kumar Chand 70</td></tr></tbody></table></div>"
      ]
     },
     "metadata": {
      "application/vnd.databricks.v1+output": {
       "addedWidgets": {},
       "aggData": [],
       "aggError": "",
       "aggOverflow": false,
       "aggSchema": [],
       "aggSeriesLimitReached": false,
       "aggType": "",
       "arguments": {},
       "columnCustomDisplayInfos": {},
       "data": [
        [
         10,
         "Raj Kumar",
         "1999",
         "100",
         "M",
         2000,
         "mumbai",
         400.0,
         "anyvalue",
         "Raj Kumar 10"
        ],
        [
         20,
         "Rahul Rajan",
         "2002",
         "200",
         "F",
         8000,
         "mumbai",
         1600.0,
         "anyvalue",
         "Rahul Rajan 20"
        ],
        [
         30,
         "Raghav",
         "2010",
         "100",
         null,
         6000,
         "mumbai",
         1200.0,
         "anyvalue",
         "Raghav 30"
        ],
        [
         40,
         "Raja Singh",
         "2004",
         "100",
         "F",
         7000,
         "mumbai",
         1400.0,
         "anyvalue",
         "Raja Singh 40"
        ],
        [
         50,
         "Rama Krish",
         "2008",
         "400",
         "M",
         1000,
         "mumbai",
         200.0,
         "anyvalue",
         "Rama Krish 50"
        ],
        [
         60,
         "RasuL",
         "2014",
         "500",
         "M",
         5000,
         "mumbai",
         1000.0,
         "anyvalue",
         "RasuL 60"
        ],
        [
         70,
         "Kumar Chand",
         "2004",
         "600",
         "M",
         5000,
         "mumbai",
         1000.0,
         "anyvalue",
         "Kumar Chand 70"
        ]
       ],
       "datasetInfos": [],
       "dbfsResultPath": null,
       "isJsonSchema": true,
       "metadata": {},
       "overflow": false,
       "plotOptions": {
        "customPlotOptions": {},
        "displayType": "table",
        "pivotAggregation": null,
        "pivotColumns": null,
        "xColumns": null,
        "yColumns": null
       },
       "removedWidgets": [],
       "schema": [
        {
         "metadata": "{}",
         "name": "employee_id",
         "type": "\"long\""
        },
        {
         "metadata": "{}",
         "name": "name",
         "type": "\"string\""
        },
        {
         "metadata": "{}",
         "name": "doj",
         "type": "\"string\""
        },
        {
         "metadata": "{}",
         "name": "employee_dept_id",
         "type": "\"string\""
        },
        {
         "metadata": "{}",
         "name": "gender",
         "type": "\"string\""
        },
        {
         "metadata": "{}",
         "name": "salary",
         "type": "\"long\""
        },
        {
         "metadata": "{}",
         "name": "place",
         "type": "\"string\""
        },
        {
         "metadata": "{}",
         "name": "bonus",
         "type": "\"double\""
        },
        {
         "metadata": "{}",
         "name": "testcol",
         "type": "\"string\""
        },
        {
         "metadata": "{}",
         "name": "fullname",
         "type": "\"string\""
        }
       ],
       "type": "table"
      }
     },
     "output_type": "display_data"
    }
   ],
   "source": [
    "from pyspark.sql.functions import concat\n",
    "\n",
    "bonus_df = bonus_df.withColumn(\"fullname\", concat(\"name\",lit(\" \"), \"employee_id\"))\n",
    "display(bonus_df)\n",
    "# to add a new column using withColumn and concat from pyspark.sql.functions import concat\n",
    "# df.withColumn(\"newcolumn\",concat(\"column1\",\"column2\"))"
   ]
  },
  {
   "cell_type": "code",
   "execution_count": 0,
   "metadata": {
    "application/vnd.databricks.v1+cell": {
     "cellMetadata": {
      "byteLimit": 2048000,
      "rowLimit": 10000
     },
     "inputWidgets": {},
     "nuid": "091bde7f-9aec-4220-99e1-b8d53049633a",
     "showTitle": false,
     "tableResultSettingsMap": {},
     "title": ""
    }
   },
   "outputs": [
    {
     "output_type": "display_data",
     "data": {
      "text/html": [
       "<style scoped>\n",
       "  .table-result-container {\n",
       "    max-height: 300px;\n",
       "    overflow: auto;\n",
       "  }\n",
       "  table, th, td {\n",
       "    border: 1px solid black;\n",
       "    border-collapse: collapse;\n",
       "  }\n",
       "  th, td {\n",
       "    padding: 5px;\n",
       "  }\n",
       "  th {\n",
       "    text-align: left;\n",
       "  }\n",
       "</style><div class='table-result-container'><table class='table-result'><thead style='background-color: white'><tr><th>employee_id</th><th>name</th><th>doj</th><th>employee_dept_id</th><th>gender</th><th>salary</th><th>place</th><th>bonus</th><th>testcol</th><th>nameandid</th></tr></thead><tbody><tr><td>10</td><td>Raj Kumar</td><td>1999</td><td>100</td><td>M</td><td>2000</td><td>mumbai</td><td>400.0</td><td>anyvalue</td><td>Raj Kumar 10</td></tr><tr><td>20</td><td>Rahul Rajan</td><td>2002</td><td>200</td><td>F</td><td>8000</td><td>mumbai</td><td>1600.0</td><td>anyvalue</td><td>Rahul Rajan 20</td></tr><tr><td>30</td><td>Raghav</td><td>2010</td><td>100</td><td>null</td><td>6000</td><td>mumbai</td><td>1200.0</td><td>anyvalue</td><td>Raghav 30</td></tr><tr><td>40</td><td>Raja Singh</td><td>2004</td><td>100</td><td>F</td><td>7000</td><td>mumbai</td><td>1400.0</td><td>anyvalue</td><td>Raja Singh 40</td></tr><tr><td>50</td><td>Rama Krish</td><td>2008</td><td>400</td><td>M</td><td>1000</td><td>mumbai</td><td>200.0</td><td>anyvalue</td><td>Rama Krish 50</td></tr><tr><td>60</td><td>RasuL</td><td>2014</td><td>500</td><td>M</td><td>5000</td><td>mumbai</td><td>1000.0</td><td>anyvalue</td><td>RasuL 60</td></tr><tr><td>70</td><td>Kumar Chand</td><td>2004</td><td>600</td><td>M</td><td>5000</td><td>mumbai</td><td>1000.0</td><td>anyvalue</td><td>Kumar Chand 70</td></tr></tbody></table></div>"
      ]
     },
     "metadata": {
      "application/vnd.databricks.v1+output": {
       "addedWidgets": {},
       "aggData": [],
       "aggError": "",
       "aggOverflow": false,
       "aggSchema": [],
       "aggSeriesLimitReached": false,
       "aggType": "",
       "arguments": {},
       "columnCustomDisplayInfos": {},
       "data": [
        [
         10,
         "Raj Kumar",
         "1999",
         "100",
         "M",
         2000,
         "mumbai",
         400.0,
         "anyvalue",
         "Raj Kumar 10"
        ],
        [
         20,
         "Rahul Rajan",
         "2002",
         "200",
         "F",
         8000,
         "mumbai",
         1600.0,
         "anyvalue",
         "Rahul Rajan 20"
        ],
        [
         30,
         "Raghav",
         "2010",
         "100",
         null,
         6000,
         "mumbai",
         1200.0,
         "anyvalue",
         "Raghav 30"
        ],
        [
         40,
         "Raja Singh",
         "2004",
         "100",
         "F",
         7000,
         "mumbai",
         1400.0,
         "anyvalue",
         "Raja Singh 40"
        ],
        [
         50,
         "Rama Krish",
         "2008",
         "400",
         "M",
         1000,
         "mumbai",
         200.0,
         "anyvalue",
         "Rama Krish 50"
        ],
        [
         60,
         "RasuL",
         "2014",
         "500",
         "M",
         5000,
         "mumbai",
         1000.0,
         "anyvalue",
         "RasuL 60"
        ],
        [
         70,
         "Kumar Chand",
         "2004",
         "600",
         "M",
         5000,
         "mumbai",
         1000.0,
         "anyvalue",
         "Kumar Chand 70"
        ]
       ],
       "datasetInfos": [],
       "dbfsResultPath": null,
       "isJsonSchema": true,
       "metadata": {},
       "overflow": false,
       "plotOptions": {
        "customPlotOptions": {},
        "displayType": "table",
        "pivotAggregation": null,
        "pivotColumns": null,
        "xColumns": null,
        "yColumns": null
       },
       "removedWidgets": [],
       "schema": [
        {
         "metadata": "{}",
         "name": "employee_id",
         "type": "\"long\""
        },
        {
         "metadata": "{}",
         "name": "name",
         "type": "\"string\""
        },
        {
         "metadata": "{}",
         "name": "doj",
         "type": "\"string\""
        },
        {
         "metadata": "{}",
         "name": "employee_dept_id",
         "type": "\"string\""
        },
        {
         "metadata": "{}",
         "name": "gender",
         "type": "\"string\""
        },
        {
         "metadata": "{}",
         "name": "salary",
         "type": "\"long\""
        },
        {
         "metadata": "{}",
         "name": "place",
         "type": "\"string\""
        },
        {
         "metadata": "{}",
         "name": "bonus",
         "type": "\"double\""
        },
        {
         "metadata": "{}",
         "name": "testcol",
         "type": "\"string\""
        },
        {
         "metadata": "{}",
         "name": "nameandid",
         "type": "\"string\""
        }
       ],
       "type": "table"
      }
     },
     "output_type": "display_data"
    }
   ],
   "source": [
    "\n",
    "bonus_df = bonus_df.withColumnRenamed(\"fullname\", \"nameandid\")\n",
    "display(bonus_df)\n",
    "# to rename a column using withColumnRenamed \n",
    "# df.withColumnRenamed(\"oldcolumnname\",\"newcolumnname\"))"
   ]
  },
  {
   "cell_type": "code",
   "execution_count": 0,
   "metadata": {
    "application/vnd.databricks.v1+cell": {
     "cellMetadata": {
      "byteLimit": 2048000,
      "rowLimit": 10000
     },
     "inputWidgets": {},
     "nuid": "e081d95d-494a-4633-bc8d-f0831e1a78aa",
     "showTitle": false,
     "tableResultSettingsMap": {},
     "title": ""
    }
   },
   "outputs": [
    {
     "output_type": "display_data",
     "data": {
      "text/html": [
       "<style scoped>\n",
       "  .table-result-container {\n",
       "    max-height: 300px;\n",
       "    overflow: auto;\n",
       "  }\n",
       "  table, th, td {\n",
       "    border: 1px solid black;\n",
       "    border-collapse: collapse;\n",
       "  }\n",
       "  th, td {\n",
       "    padding: 5px;\n",
       "  }\n",
       "  th {\n",
       "    text-align: left;\n",
       "  }\n",
       "</style><div class='table-result-container'><table class='table-result'><thead style='background-color: white'><tr><th>employee_id</th><th>name</th><th>doj</th><th>employee_dept_id</th><th>gender</th><th>salary</th></tr></thead><tbody><tr><td>10</td><td>Raj Kumar</td><td>1999</td><td>100</td><td>M</td><td>2000</td></tr><tr><td>20</td><td>Rahul Rajan</td><td>2002</td><td>200</td><td>F</td><td>8000</td></tr><tr><td>30</td><td>Raghav</td><td>2010</td><td>100</td><td>null</td><td>6000</td></tr><tr><td>40</td><td>Raja Singh</td><td>2004</td><td>100</td><td>F</td><td>7000</td></tr><tr><td>50</td><td>Rama Krish</td><td>2008</td><td>400</td><td>M</td><td>1000</td></tr><tr><td>60</td><td>RasuL</td><td>2014</td><td>500</td><td>M</td><td>5000</td></tr><tr><td>70</td><td>Kumar Chand</td><td>2004</td><td>600</td><td>M</td><td>5000</td></tr></tbody></table></div>"
      ]
     },
     "metadata": {
      "application/vnd.databricks.v1+output": {
       "addedWidgets": {},
       "aggData": [],
       "aggError": "",
       "aggOverflow": false,
       "aggSchema": [],
       "aggSeriesLimitReached": false,
       "aggType": "",
       "arguments": {},
       "columnCustomDisplayInfos": {},
       "data": [
        [
         10,
         "Raj Kumar",
         "1999",
         "100",
         "M",
         2000
        ],
        [
         20,
         "Rahul Rajan",
         "2002",
         "200",
         "F",
         8000
        ],
        [
         30,
         "Raghav",
         "2010",
         "100",
         null,
         6000
        ],
        [
         40,
         "Raja Singh",
         "2004",
         "100",
         "F",
         7000
        ],
        [
         50,
         "Rama Krish",
         "2008",
         "400",
         "M",
         1000
        ],
        [
         60,
         "RasuL",
         "2014",
         "500",
         "M",
         5000
        ],
        [
         70,
         "Kumar Chand",
         "2004",
         "600",
         "M",
         5000
        ]
       ],
       "datasetInfos": [],
       "dbfsResultPath": null,
       "isJsonSchema": true,
       "metadata": {},
       "overflow": false,
       "plotOptions": {
        "customPlotOptions": {},
        "displayType": "table",
        "pivotAggregation": null,
        "pivotColumns": null,
        "xColumns": null,
        "yColumns": null
       },
       "removedWidgets": [],
       "schema": [
        {
         "metadata": "{}",
         "name": "employee_id",
         "type": "\"long\""
        },
        {
         "metadata": "{}",
         "name": "name",
         "type": "\"string\""
        },
        {
         "metadata": "{}",
         "name": "doj",
         "type": "\"string\""
        },
        {
         "metadata": "{}",
         "name": "employee_dept_id",
         "type": "\"string\""
        },
        {
         "metadata": "{}",
         "name": "gender",
         "type": "\"string\""
        },
        {
         "metadata": "{}",
         "name": "salary",
         "type": "\"long\""
        }
       ],
       "type": "table"
      }
     },
     "output_type": "display_data"
    }
   ],
   "source": [
    "afterdropdf = bonus_df.drop(\"nameandid\").drop(\"testcol\")\n",
    "newdf = afterdropdf.drop(\"bonus\",\"place\")\n",
    "display(newdf)\n",
    "\n",
    "# to drop a column or columns using df.drop(colname)"
   ]
  }
 ],
 "metadata": {
  "application/vnd.databricks.v1+notebook": {
   "dashboards": [],
   "environmentMetadata": null,
   "language": "python",
   "notebookMetadata": {
    "pythonIndentUnit": 4
   },
   "notebookName": "03_Add_Rename_and_Drop_Columns",
   "widgets": {}
  }
 },
 "nbformat": 4,
 "nbformat_minor": 0
}
