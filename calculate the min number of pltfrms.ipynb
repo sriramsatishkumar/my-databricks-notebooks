{
 "cells": [
  {
   "cell_type": "markdown",
   "metadata": {
    "application/vnd.databricks.v1+cell": {
     "cellMetadata": {
      "byteLimit": 2048000,
      "rowLimit": 10000
     },
     "inputWidgets": {},
     "nuid": "74f5331d-ff62-4171-82b6-0cc231b57dc0",
     "showTitle": false,
     "tableResultSettingsMap": {},
     "title": ""
    }
   },
   "source": [
    " \n",
    " ✅ Problem Statement\n",
    "The problem is to calculate the minimum number of platforms required at a train station based on the given arrival_times and departure_times.\n",
    "\n",
    "✅ Problem Breakdown:\n",
    ">We need to merge both arrival_time and departure_time into a unified dataset.\n",
    ">We’ll use a window function to track how many platforms are required at each point in time.\n",
    ">For each train arrival, we’ll add a platform (+1) and for each train departure, we’ll subtract a platform (-1).\n",
    ">Finally, we will calculate the maximum number of platforms required at any point in time during the day.\n",
    "✅ Input Data (Train Arrival and Departure times below)\n"
   ]
  },
  {
   "cell_type": "code",
   "execution_count": 0,
   "metadata": {
    "application/vnd.databricks.v1+cell": {
     "cellMetadata": {
      "byteLimit": 2048000,
      "rowLimit": 10000
     },
     "inputWidgets": {},
     "nuid": "b5e76385-8abe-43d7-a847-b812d3dc83ca",
     "showTitle": false,
     "tableResultSettingsMap": {},
     "title": ""
    }
   },
   "outputs": [],
   "source": [
    "arrivals_data = [\n",
    " (1, '2024-11-17 08:00'),\n",
    " (2, '2024-11-17 08:05'),\n",
    " (3, '2024-11-17 08:05'),\n",
    " (4, '2024-11-17 08:10'),\n",
    " (5, '2024-11-17 08:10'),\n",
    " (6, '2024-11-17 12:15'),\n",
    " (7, '2024-11-17 12:20'),\n",
    " (8, '2024-11-17 12:25'),\n",
    " (9, '2024-11-17 15:00'),\n",
    " (10, '2024-11-17 15:00'),\n",
    " (11, '2024-11-17 15:00'),\n",
    " (12, '2024-11-17 15:06'),\n",
    " (13, '2024-11-17 20:00'),\n",
    " (14, '2024-11-17 20:10')\n",
    "]\n",
    "\n",
    "departures_data = [\n",
    " (1, '2024-11-17 08:15'),\n",
    " (2, '2024-11-17 08:10'),\n",
    " (3, '2024-11-17 08:20'),\n",
    " (4, '2024-11-17 08:25'),\n",
    " (5, '2024-11-17 08:20'),\n",
    " (6, '2024-11-17 13:00'),\n",
    " (7, '2024-11-17 12:25'),\n",
    " (8, '2024-11-17 12:30'),\n",
    " (9, '2024-11-17 15:05'),\n",
    " (10, '2024-11-17 15:10'),\n",
    " (11, '2024-11-17 15:15'),\n",
    " (12, '2024-11-17 15:15'),\n",
    " (13, '2024-11-17 20:15'),\n",
    " (14, '2024-11-17 20:15')\n",
    "]\n",
    "\n",
    "# Define schema for the data\n",
    "arrival_schema = ['train_id', 'arrival_time']\n",
    "departure_schema = ['train_id', 'departure_time']\n",
    "\n",
    "# Create DataFrames\n",
    "arrivals_df = spark.createDataFrame(arrivals_data, arrival_schema)\n",
    "departures_df = spark.createDataFrame(departures_data, departure_schema)"
   ]
  },
  {
   "cell_type": "markdown",
   "metadata": {
    "application/vnd.databricks.v1+cell": {
     "cellMetadata": {
      "byteLimit": 2048000,
      "rowLimit": 10000
     },
     "inputWidgets": {},
     "nuid": "65cfbe8a-46f5-4eba-b407-4f242a6950c5",
     "showTitle": false,
     "tableResultSettingsMap": {},
     "title": ""
    }
   },
   "source": [
    "####Step 1: Merge Arrival and Departure Data\n",
    "####Combine the arrivals_df and departures_df into a unified dataset with an indicator for arrival (+1) and departure (-1)."
   ]
  },
  {
   "cell_type": "code",
   "execution_count": 0,
   "metadata": {
    "application/vnd.databricks.v1+cell": {
     "cellMetadata": {
      "byteLimit": 2048000,
      "rowLimit": 10000
     },
     "inputWidgets": {},
     "nuid": "27130335-839a-4b5a-9dcb-69e72b87a6ce",
     "showTitle": false,
     "tableResultSettingsMap": {},
     "title": ""
    }
   },
   "outputs": [],
   "source": [
    "from pyspark.sql import functions as F\n",
    "from pyspark.sql.window import Window\n",
    "\n",
    "# Add 'event_type' column to indicate arrival (+1) or departure (-1)\n",
    "arrivals_df = arrivals_df.withColumn(\"event_type\", F.lit(1))\n",
    "departures_df = departures_df.withColumn(\"event_type\", F.lit(-1))\n",
    "\n",
    "# Rename columns for consistency\n",
    "arrivals_df = arrivals_df.withColumnRenamed(\"arrival_time\", \"event_time\")\n",
    "departures_df = departures_df.withColumnRenamed(\"departure_time\", \"event_time\")\n",
    "\n",
    "# Union the two datasets\n",
    "events_df = arrivals_df.union(departures_df)\n",
    "\n",
    "# Sort by event_time and event_type (arrival should come before departure for same time)\n",
    "events_df = events_df.orderBy(\"event_time\", \"event_type\")\n"
   ]
  },
  {
   "cell_type": "code",
   "execution_count": 0,
   "metadata": {
    "application/vnd.databricks.v1+cell": {
     "cellMetadata": {
      "byteLimit": 2048000,
      "rowLimit": 10000
     },
     "inputWidgets": {},
     "nuid": "55475b1c-64a9-4188-9ba7-ad9e7d3a6257",
     "showTitle": false,
     "tableResultSettingsMap": {},
     "title": ""
    }
   },
   "outputs": [],
   "source": [
    "#arrivals_df.display()\n",
    "#departures_df.display()\n",
    "#events_df.display()"
   ]
  },
  {
   "cell_type": "markdown",
   "metadata": {
    "application/vnd.databricks.v1+cell": {
     "cellMetadata": {
      "byteLimit": 2048000,
      "rowLimit": 10000
     },
     "inputWidgets": {},
     "nuid": "3ef5f980-ad03-4c67-a563-d74d5e56bee9",
     "showTitle": false,
     "tableResultSettingsMap": {},
     "title": ""
    }
   },
   "source": [
    "####Step 2: Calculate the Running Sum of Platforms\n",
    "####Use a window function to compute the running total of platforms required at each event."
   ]
  },
  {
   "cell_type": "code",
   "execution_count": 0,
   "metadata": {
    "application/vnd.databricks.v1+cell": {
     "cellMetadata": {
      "byteLimit": 2048000,
      "rowLimit": 10000
     },
     "inputWidgets": {},
     "nuid": "8bfa99c6-7836-4bb6-8041-d13bc092042b",
     "showTitle": false,
     "tableResultSettingsMap": {},
     "title": ""
    }
   },
   "outputs": [
    {
     "output_type": "display_data",
     "data": {
      "text/html": [
       "<style scoped>\n",
       "  .table-result-container {\n",
       "    max-height: 300px;\n",
       "    overflow: auto;\n",
       "  }\n",
       "  table, th, td {\n",
       "    border: 1px solid black;\n",
       "    border-collapse: collapse;\n",
       "  }\n",
       "  th, td {\n",
       "    padding: 5px;\n",
       "  }\n",
       "  th {\n",
       "    text-align: left;\n",
       "  }\n",
       "</style><div class='table-result-container'><table class='table-result'><thead style='background-color: white'><tr><th>train_id</th><th>event_time</th><th>event_type</th><th>platforms_in_use</th></tr></thead><tbody><tr><td>1</td><td>2024-11-17 08:00</td><td>1</td><td>1</td></tr><tr><td>2</td><td>2024-11-17 08:05</td><td>1</td><td>3</td></tr><tr><td>3</td><td>2024-11-17 08:05</td><td>1</td><td>3</td></tr><tr><td>2</td><td>2024-11-17 08:10</td><td>-1</td><td>4</td></tr><tr><td>4</td><td>2024-11-17 08:10</td><td>1</td><td>4</td></tr><tr><td>5</td><td>2024-11-17 08:10</td><td>1</td><td>4</td></tr><tr><td>1</td><td>2024-11-17 08:15</td><td>-1</td><td>3</td></tr><tr><td>3</td><td>2024-11-17 08:20</td><td>-1</td><td>1</td></tr><tr><td>5</td><td>2024-11-17 08:20</td><td>-1</td><td>1</td></tr><tr><td>4</td><td>2024-11-17 08:25</td><td>-1</td><td>0</td></tr><tr><td>6</td><td>2024-11-17 12:15</td><td>1</td><td>1</td></tr><tr><td>7</td><td>2024-11-17 12:20</td><td>1</td><td>2</td></tr><tr><td>7</td><td>2024-11-17 12:25</td><td>-1</td><td>2</td></tr><tr><td>8</td><td>2024-11-17 12:25</td><td>1</td><td>2</td></tr><tr><td>8</td><td>2024-11-17 12:30</td><td>-1</td><td>1</td></tr><tr><td>6</td><td>2024-11-17 13:00</td><td>-1</td><td>0</td></tr><tr><td>9</td><td>2024-11-17 15:00</td><td>1</td><td>3</td></tr><tr><td>10</td><td>2024-11-17 15:00</td><td>1</td><td>3</td></tr><tr><td>11</td><td>2024-11-17 15:00</td><td>1</td><td>3</td></tr><tr><td>9</td><td>2024-11-17 15:05</td><td>-1</td><td>2</td></tr><tr><td>12</td><td>2024-11-17 15:06</td><td>1</td><td>3</td></tr><tr><td>10</td><td>2024-11-17 15:10</td><td>-1</td><td>2</td></tr><tr><td>11</td><td>2024-11-17 15:15</td><td>-1</td><td>0</td></tr><tr><td>12</td><td>2024-11-17 15:15</td><td>-1</td><td>0</td></tr><tr><td>13</td><td>2024-11-17 20:00</td><td>1</td><td>1</td></tr><tr><td>14</td><td>2024-11-17 20:10</td><td>1</td><td>2</td></tr><tr><td>13</td><td>2024-11-17 20:15</td><td>-1</td><td>0</td></tr><tr><td>14</td><td>2024-11-17 20:15</td><td>-1</td><td>0</td></tr></tbody></table></div>"
      ]
     },
     "metadata": {
      "application/vnd.databricks.v1+output": {
       "addedWidgets": {},
       "aggData": [],
       "aggError": "",
       "aggOverflow": false,
       "aggSchema": [],
       "aggSeriesLimitReached": false,
       "aggType": "",
       "arguments": {},
       "columnCustomDisplayInfos": {},
       "data": [
        [
         1,
         "2024-11-17 08:00",
         1,
         1
        ],
        [
         2,
         "2024-11-17 08:05",
         1,
         3
        ],
        [
         3,
         "2024-11-17 08:05",
         1,
         3
        ],
        [
         2,
         "2024-11-17 08:10",
         -1,
         4
        ],
        [
         4,
         "2024-11-17 08:10",
         1,
         4
        ],
        [
         5,
         "2024-11-17 08:10",
         1,
         4
        ],
        [
         1,
         "2024-11-17 08:15",
         -1,
         3
        ],
        [
         3,
         "2024-11-17 08:20",
         -1,
         1
        ],
        [
         5,
         "2024-11-17 08:20",
         -1,
         1
        ],
        [
         4,
         "2024-11-17 08:25",
         -1,
         0
        ],
        [
         6,
         "2024-11-17 12:15",
         1,
         1
        ],
        [
         7,
         "2024-11-17 12:20",
         1,
         2
        ],
        [
         7,
         "2024-11-17 12:25",
         -1,
         2
        ],
        [
         8,
         "2024-11-17 12:25",
         1,
         2
        ],
        [
         8,
         "2024-11-17 12:30",
         -1,
         1
        ],
        [
         6,
         "2024-11-17 13:00",
         -1,
         0
        ],
        [
         9,
         "2024-11-17 15:00",
         1,
         3
        ],
        [
         10,
         "2024-11-17 15:00",
         1,
         3
        ],
        [
         11,
         "2024-11-17 15:00",
         1,
         3
        ],
        [
         9,
         "2024-11-17 15:05",
         -1,
         2
        ],
        [
         12,
         "2024-11-17 15:06",
         1,
         3
        ],
        [
         10,
         "2024-11-17 15:10",
         -1,
         2
        ],
        [
         11,
         "2024-11-17 15:15",
         -1,
         0
        ],
        [
         12,
         "2024-11-17 15:15",
         -1,
         0
        ],
        [
         13,
         "2024-11-17 20:00",
         1,
         1
        ],
        [
         14,
         "2024-11-17 20:10",
         1,
         2
        ],
        [
         13,
         "2024-11-17 20:15",
         -1,
         0
        ],
        [
         14,
         "2024-11-17 20:15",
         -1,
         0
        ]
       ],
       "datasetInfos": [],
       "dbfsResultPath": null,
       "isJsonSchema": true,
       "metadata": {},
       "overflow": false,
       "plotOptions": {
        "customPlotOptions": {},
        "displayType": "table",
        "pivotAggregation": null,
        "pivotColumns": null,
        "xColumns": null,
        "yColumns": null
       },
       "removedWidgets": [],
       "schema": [
        {
         "metadata": "{}",
         "name": "train_id",
         "type": "\"long\""
        },
        {
         "metadata": "{}",
         "name": "event_time",
         "type": "\"string\""
        },
        {
         "metadata": "{}",
         "name": "event_type",
         "type": "\"integer\""
        },
        {
         "metadata": "{}",
         "name": "platforms_in_use",
         "type": "\"long\""
        }
       ],
       "type": "table"
      }
     },
     "output_type": "display_data"
    }
   ],
   "source": [
    "# Define a window specification for cumulative sum\n",
    "window_spec = Window.orderBy(\"event_time\")\n",
    "\n",
    "# Calculate running sum of event_type to track platform usage\n",
    "events_df = events_df.withColumn(\"platforms_in_use\", F.sum(\"event_type\").over(window_spec))\n",
    "\n",
    "# Show the intermediate results\n",
    "events_df.display()\n"
   ]
  },
  {
   "cell_type": "markdown",
   "metadata": {
    "application/vnd.databricks.v1+cell": {
     "cellMetadata": {
      "byteLimit": 2048000,
      "rowLimit": 10000
     },
     "inputWidgets": {},
     "nuid": "12db308a-c0fe-4340-83a9-bf79d44c4e39",
     "showTitle": false,
     "tableResultSettingsMap": {},
     "title": ""
    }
   },
   "source": [
    "####Step 3: Find the Maximum Platforms Required\n",
    "####The maximum value of platforms_in_use column gives the minimum number of platforms required."
   ]
  },
  {
   "cell_type": "code",
   "execution_count": 0,
   "metadata": {
    "application/vnd.databricks.v1+cell": {
     "cellMetadata": {
      "byteLimit": 2048000,
      "rowLimit": 10000
     },
     "inputWidgets": {},
     "nuid": "6e322ef6-2a6a-4953-8a27-ad9bd41ae5fd",
     "showTitle": false,
     "tableResultSettingsMap": {},
     "title": ""
    }
   },
   "outputs": [
    {
     "output_type": "stream",
     "name": "stdout",
     "output_type": "stream",
     "text": [
      "Minimum number of platforms required: 4\n"
     ]
    }
   ],
   "source": [
    "# Find the maximum number of platforms in use\n",
    "#max_platforms = events_df.agg(F.max(\"platforms_in_use\").alias(\"max_platforms\")).collect()[0][\"max_platforms\"]\n",
    "\n",
    "max_platforms = events_df.agg(F.max(\"platforms_in_use\")).collect()[0][0]\n",
    "\n",
    "print(f\"Minimum number of platforms required: {max_platforms}\")\n"
   ]
  }
 ],
 "metadata": {
  "application/vnd.databricks.v1+notebook": {
   "dashboards": [],
   "environmentMetadata": null,
   "language": "python",
   "notebookMetadata": {
    "pythonIndentUnit": 4
   },
   "notebookName": "calculate the min number of pltfrms",
   "widgets": {}
  }
 },
 "nbformat": 4,
 "nbformat_minor": 0
}
