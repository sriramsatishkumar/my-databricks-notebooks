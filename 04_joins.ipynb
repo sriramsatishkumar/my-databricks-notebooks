{
 "cells": [
  {
   "cell_type": "markdown",
   "metadata": {
    "application/vnd.databricks.v1+cell": {
     "cellMetadata": {
      "byteLimit": 2048000,
      "rowLimit": 10000
     },
     "inputWidgets": {},
     "nuid": "b1e67a31-a512-48ed-8101-ed35c65945c7",
     "showTitle": false,
     "tableResultSettingsMap": {},
     "title": ""
    }
   },
   "source": [
    "#Join type Syntax:\n",
    "\n",
    "DF1.join(DF2, DF1.key=DF2.key, Join_type)\n",
    "\n",
    "- Inner join -> inner\n",
    "- Full outer join -> Outer, Full, fullouter, full_outer\n",
    "- Left Outer -> Left, leftouter, left_outer\n",
    "- Right Outer -> right, rightouter, right_outer\n",
    "- Left Semi -> semi, leftsemi, left_semi\n",
    "- Left Anti -> anti, leftanti, left_anti"
   ]
  },
  {
   "cell_type": "code",
   "execution_count": 0,
   "metadata": {
    "application/vnd.databricks.v1+cell": {
     "cellMetadata": {
      "byteLimit": 2048000,
      "rowLimit": 10000
     },
     "inputWidgets": {},
     "nuid": "ea3f3601-7f31-4c02-8b88-c462e11b1365",
     "showTitle": false,
     "tableResultSettingsMap": {},
     "title": ""
    }
   },
   "outputs": [],
   "source": [
    "employee_data = [(10,\"Raj Kumar\",\"1999\",\"100\",\"M\",2000),\n",
    "                 (20,\"Rahul Rajan\",\"2002\",\"200\",\"F\",8000),\n",
    "                 (30,\"Raghav \",\"2010\",\"100\",None,6000),\n",
    "                 (40,\"Raja Singh\",\"2004\",\"100\",\"F\",7000),\n",
    "                 (50,\"Rama Krish\",\"2008\",\"400\",\"M\",1000),\n",
    "                 (60,\"RasuL\",\"2014\",\"500\",\"M\",5000),\n",
    "                 (70,\"Kumar Chand\",\"2004\",\"600\",\"M\",5000)\n",
    "                ]\n",
    "employee_schema = [\"employee_id\",\"name\",\"doj\",\n",
    "                   \"employee_dept_id\",\"gender\",\"salary\"]\n",
    "\n",
    "employeeDF = spark.createDataFrame(data=employee_data, schema = employee_schema)\n",
    "\n",
    "department_data = [(\"HR\",100),\n",
    "                   (\"Supply\",200),\n",
    "                   (\"Sales\",300),\n",
    "                   (\"Stock\",400)\n",
    "                  ]\n",
    "department_schema = [\"dept_name\",\"dept_id\"]\n",
    "\n",
    "departmentDF = spark.createDataFrame(data=department_data, schema = department_schema)\n",
    "\n",
    "#display(employeeDF)\n",
    "\n",
    "#display(departmentDF)"
   ]
  },
  {
   "cell_type": "markdown",
   "metadata": {
    "application/vnd.databricks.v1+cell": {
     "cellMetadata": {
      "byteLimit": 2048000,
      "rowLimit": 10000
     },
     "inputWidgets": {},
     "nuid": "cf07c4e7-f28b-430c-a993-95bb08dee772",
     "showTitle": false,
     "tableResultSettingsMap": {},
     "title": ""
    }
   },
   "source": [
    "#inner join"
   ]
  },
  {
   "cell_type": "code",
   "execution_count": 0,
   "metadata": {
    "application/vnd.databricks.v1+cell": {
     "cellMetadata": {
      "byteLimit": 2048000,
      "rowLimit": 10000
     },
     "inputWidgets": {},
     "nuid": "348b5cf2-7eed-43b6-a365-82bb75938c59",
     "showTitle": false,
     "tableResultSettingsMap": {},
     "title": ""
    }
   },
   "outputs": [],
   "source": [
    "df_join = employeeDF.join(departmentDF,employeeDF.employee_dept_id == departmentDF.dept_id, \"inner\")\n",
    "#df_join = employeeDF.join(departmentDF,employeeDF.employee_dept_id == departmentDF.dept_id)\n",
    "#display(df_join)"
   ]
  },
  {
   "cell_type": "markdown",
   "metadata": {
    "application/vnd.databricks.v1+cell": {
     "cellMetadata": {
      "byteLimit": 2048000,
      "rowLimit": 10000
     },
     "inputWidgets": {},
     "nuid": "71188f04-7891-42c4-acf9-c62b2262676f",
     "showTitle": false,
     "tableResultSettingsMap": {},
     "title": ""
    }
   },
   "source": [
    "#outer join\n",
    "*Full outer join -> Outer, Full, fullouter, full_outer*"
   ]
  },
  {
   "cell_type": "code",
   "execution_count": 0,
   "metadata": {
    "application/vnd.databricks.v1+cell": {
     "cellMetadata": {
      "byteLimit": 2048000,
      "rowLimit": 10000
     },
     "inputWidgets": {},
     "nuid": "1f9f0797-056d-49cd-a22e-92d57c2c680c",
     "showTitle": false,
     "tableResultSettingsMap": {},
     "title": ""
    }
   },
   "outputs": [
    {
     "output_type": "display_data",
     "data": {
      "text/html": [
       "<style scoped>\n",
       "  .table-result-container {\n",
       "    max-height: 300px;\n",
       "    overflow: auto;\n",
       "  }\n",
       "  table, th, td {\n",
       "    border: 1px solid black;\n",
       "    border-collapse: collapse;\n",
       "  }\n",
       "  th, td {\n",
       "    padding: 5px;\n",
       "  }\n",
       "  th {\n",
       "    text-align: left;\n",
       "  }\n",
       "</style><div class='table-result-container'><table class='table-result'><thead style='background-color: white'><tr><th>employee_id</th><th>name</th><th>doj</th><th>employee_dept_id</th><th>gender</th><th>salary</th><th>dept_name</th><th>dept_id</th></tr></thead><tbody><tr><td>10</td><td>Raj Kumar</td><td>1999</td><td>100</td><td>M</td><td>2000</td><td>HR</td><td>100</td></tr><tr><td>30</td><td>Raghav </td><td>2010</td><td>100</td><td>null</td><td>6000</td><td>HR</td><td>100</td></tr><tr><td>40</td><td>Raja Singh</td><td>2004</td><td>100</td><td>F</td><td>7000</td><td>HR</td><td>100</td></tr><tr><td>20</td><td>Rahul Rajan</td><td>2002</td><td>200</td><td>F</td><td>8000</td><td>Supply</td><td>200</td></tr><tr><td>null</td><td>null</td><td>null</td><td>null</td><td>null</td><td>null</td><td>Sales</td><td>300</td></tr><tr><td>50</td><td>Rama Krish</td><td>2008</td><td>400</td><td>M</td><td>1000</td><td>Stock</td><td>400</td></tr><tr><td>60</td><td>RasuL</td><td>2014</td><td>500</td><td>M</td><td>5000</td><td>null</td><td>null</td></tr><tr><td>70</td><td>Kumar Chand</td><td>2004</td><td>600</td><td>M</td><td>5000</td><td>null</td><td>null</td></tr></tbody></table></div>"
      ]
     },
     "metadata": {
      "application/vnd.databricks.v1+output": {
       "addedWidgets": {},
       "aggData": [],
       "aggError": "",
       "aggOverflow": false,
       "aggSchema": [],
       "aggSeriesLimitReached": false,
       "aggType": "",
       "arguments": {},
       "columnCustomDisplayInfos": {},
       "data": [
        [
         10,
         "Raj Kumar",
         "1999",
         "100",
         "M",
         2000,
         "HR",
         100
        ],
        [
         30,
         "Raghav ",
         "2010",
         "100",
         null,
         6000,
         "HR",
         100
        ],
        [
         40,
         "Raja Singh",
         "2004",
         "100",
         "F",
         7000,
         "HR",
         100
        ],
        [
         20,
         "Rahul Rajan",
         "2002",
         "200",
         "F",
         8000,
         "Supply",
         200
        ],
        [
         null,
         null,
         null,
         null,
         null,
         null,
         "Sales",
         300
        ],
        [
         50,
         "Rama Krish",
         "2008",
         "400",
         "M",
         1000,
         "Stock",
         400
        ],
        [
         60,
         "RasuL",
         "2014",
         "500",
         "M",
         5000,
         null,
         null
        ],
        [
         70,
         "Kumar Chand",
         "2004",
         "600",
         "M",
         5000,
         null,
         null
        ]
       ],
       "datasetInfos": [],
       "dbfsResultPath": null,
       "isJsonSchema": true,
       "metadata": {},
       "overflow": false,
       "plotOptions": {
        "customPlotOptions": {},
        "displayType": "table",
        "pivotAggregation": null,
        "pivotColumns": null,
        "xColumns": null,
        "yColumns": null
       },
       "removedWidgets": [],
       "schema": [
        {
         "metadata": "{}",
         "name": "employee_id",
         "type": "\"long\""
        },
        {
         "metadata": "{}",
         "name": "name",
         "type": "\"string\""
        },
        {
         "metadata": "{}",
         "name": "doj",
         "type": "\"string\""
        },
        {
         "metadata": "{}",
         "name": "employee_dept_id",
         "type": "\"string\""
        },
        {
         "metadata": "{}",
         "name": "gender",
         "type": "\"string\""
        },
        {
         "metadata": "{}",
         "name": "salary",
         "type": "\"long\""
        },
        {
         "metadata": "{}",
         "name": "dept_name",
         "type": "\"string\""
        },
        {
         "metadata": "{}",
         "name": "dept_id",
         "type": "\"long\""
        }
       ],
       "type": "table"
      }
     },
     "output_type": "display_data"
    }
   ],
   "source": [
    "df_join = employeeDF.join(departmentDF,employeeDF.employee_dept_id == departmentDF.dept_id, \"outer\")\n",
    "#df_join = employeeDF.join(departmentDF,employeeDF.employee_dept_id == departmentDF.dept_id)\n",
    "display(df_join)"
   ]
  },
  {
   "cell_type": "markdown",
   "metadata": {
    "application/vnd.databricks.v1+cell": {
     "cellMetadata": {
      "byteLimit": 2048000,
      "rowLimit": 10000
     },
     "inputWidgets": {},
     "nuid": "57819435-19b2-46b3-85cb-ad1cdb3a9d9a",
     "showTitle": false,
     "tableResultSettingsMap": {},
     "title": ""
    }
   },
   "source": [
    "#left outer join\n",
    "Left Outer -> Left, leftouter, left_outer"
   ]
  },
  {
   "cell_type": "code",
   "execution_count": 0,
   "metadata": {
    "application/vnd.databricks.v1+cell": {
     "cellMetadata": {
      "byteLimit": 2048000,
      "rowLimit": 10000
     },
     "inputWidgets": {},
     "nuid": "cd014e28-2522-4732-97e4-3806448711d2",
     "showTitle": false,
     "tableResultSettingsMap": {},
     "title": ""
    }
   },
   "outputs": [
    {
     "output_type": "display_data",
     "data": {
      "text/html": [
       "<style scoped>\n",
       "  .table-result-container {\n",
       "    max-height: 300px;\n",
       "    overflow: auto;\n",
       "  }\n",
       "  table, th, td {\n",
       "    border: 1px solid black;\n",
       "    border-collapse: collapse;\n",
       "  }\n",
       "  th, td {\n",
       "    padding: 5px;\n",
       "  }\n",
       "  th {\n",
       "    text-align: left;\n",
       "  }\n",
       "</style><div class='table-result-container'><table class='table-result'><thead style='background-color: white'><tr><th>employee_id</th><th>name</th><th>doj</th><th>employee_dept_id</th><th>gender</th><th>salary</th><th>dept_name</th><th>dept_id</th></tr></thead><tbody><tr><td>10</td><td>Raj Kumar</td><td>1999</td><td>100</td><td>M</td><td>2000</td><td>HR</td><td>100</td></tr><tr><td>20</td><td>Rahul Rajan</td><td>2002</td><td>200</td><td>F</td><td>8000</td><td>Supply</td><td>200</td></tr><tr><td>30</td><td>Raghav </td><td>2010</td><td>100</td><td>null</td><td>6000</td><td>HR</td><td>100</td></tr><tr><td>40</td><td>Raja Singh</td><td>2004</td><td>100</td><td>F</td><td>7000</td><td>HR</td><td>100</td></tr><tr><td>50</td><td>Rama Krish</td><td>2008</td><td>400</td><td>M</td><td>1000</td><td>Stock</td><td>400</td></tr><tr><td>60</td><td>RasuL</td><td>2014</td><td>500</td><td>M</td><td>5000</td><td>null</td><td>null</td></tr><tr><td>70</td><td>Kumar Chand</td><td>2004</td><td>600</td><td>M</td><td>5000</td><td>null</td><td>null</td></tr></tbody></table></div>"
      ]
     },
     "metadata": {
      "application/vnd.databricks.v1+output": {
       "addedWidgets": {},
       "aggData": [],
       "aggError": "",
       "aggOverflow": false,
       "aggSchema": [],
       "aggSeriesLimitReached": false,
       "aggType": "",
       "arguments": {},
       "columnCustomDisplayInfos": {},
       "data": [
        [
         10,
         "Raj Kumar",
         "1999",
         "100",
         "M",
         2000,
         "HR",
         100
        ],
        [
         20,
         "Rahul Rajan",
         "2002",
         "200",
         "F",
         8000,
         "Supply",
         200
        ],
        [
         30,
         "Raghav ",
         "2010",
         "100",
         null,
         6000,
         "HR",
         100
        ],
        [
         40,
         "Raja Singh",
         "2004",
         "100",
         "F",
         7000,
         "HR",
         100
        ],
        [
         50,
         "Rama Krish",
         "2008",
         "400",
         "M",
         1000,
         "Stock",
         400
        ],
        [
         60,
         "RasuL",
         "2014",
         "500",
         "M",
         5000,
         null,
         null
        ],
        [
         70,
         "Kumar Chand",
         "2004",
         "600",
         "M",
         5000,
         null,
         null
        ]
       ],
       "datasetInfos": [],
       "dbfsResultPath": null,
       "isJsonSchema": true,
       "metadata": {},
       "overflow": false,
       "plotOptions": {
        "customPlotOptions": {},
        "displayType": "table",
        "pivotAggregation": null,
        "pivotColumns": null,
        "xColumns": null,
        "yColumns": null
       },
       "removedWidgets": [],
       "schema": [
        {
         "metadata": "{}",
         "name": "employee_id",
         "type": "\"long\""
        },
        {
         "metadata": "{}",
         "name": "name",
         "type": "\"string\""
        },
        {
         "metadata": "{}",
         "name": "doj",
         "type": "\"string\""
        },
        {
         "metadata": "{}",
         "name": "employee_dept_id",
         "type": "\"string\""
        },
        {
         "metadata": "{}",
         "name": "gender",
         "type": "\"string\""
        },
        {
         "metadata": "{}",
         "name": "salary",
         "type": "\"long\""
        },
        {
         "metadata": "{}",
         "name": "dept_name",
         "type": "\"string\""
        },
        {
         "metadata": "{}",
         "name": "dept_id",
         "type": "\"long\""
        }
       ],
       "type": "table"
      }
     },
     "output_type": "display_data"
    }
   ],
   "source": [
    "df_join = employeeDF.join(departmentDF, employeeDF.employee_dept_id == departmentDF.dept_id, \"left_outer\")\n",
    "display(df_join)"
   ]
  },
  {
   "cell_type": "markdown",
   "metadata": {
    "application/vnd.databricks.v1+cell": {
     "cellMetadata": {
      "byteLimit": 2048000,
      "rowLimit": 10000
     },
     "inputWidgets": {},
     "nuid": "dcb742b5-1787-4215-99fa-ca13505f5ad9",
     "showTitle": false,
     "tableResultSettingsMap": {},
     "title": ""
    }
   },
   "source": [
    "#Right outer join\n",
    "*Right Outer -> right, rightouter, right_outer*"
   ]
  },
  {
   "cell_type": "code",
   "execution_count": 0,
   "metadata": {
    "application/vnd.databricks.v1+cell": {
     "cellMetadata": {
      "byteLimit": 2048000,
      "rowLimit": 10000
     },
     "inputWidgets": {},
     "nuid": "c1cc3b44-44a1-4885-89bb-2e96cc5971ca",
     "showTitle": false,
     "tableResultSettingsMap": {},
     "title": ""
    }
   },
   "outputs": [
    {
     "output_type": "display_data",
     "data": {
      "text/html": [
       "<style scoped>\n",
       "  .table-result-container {\n",
       "    max-height: 300px;\n",
       "    overflow: auto;\n",
       "  }\n",
       "  table, th, td {\n",
       "    border: 1px solid black;\n",
       "    border-collapse: collapse;\n",
       "  }\n",
       "  th, td {\n",
       "    padding: 5px;\n",
       "  }\n",
       "  th {\n",
       "    text-align: left;\n",
       "  }\n",
       "</style><div class='table-result-container'><table class='table-result'><thead style='background-color: white'><tr><th>employee_id</th><th>name</th><th>doj</th><th>employee_dept_id</th><th>gender</th><th>salary</th><th>dept_name</th><th>dept_id</th></tr></thead><tbody><tr><td>40</td><td>Raja Singh</td><td>2004</td><td>100</td><td>F</td><td>7000</td><td>HR</td><td>100</td></tr><tr><td>30</td><td>Raghav </td><td>2010</td><td>100</td><td>null</td><td>6000</td><td>HR</td><td>100</td></tr><tr><td>10</td><td>Raj Kumar</td><td>1999</td><td>100</td><td>M</td><td>2000</td><td>HR</td><td>100</td></tr><tr><td>20</td><td>Rahul Rajan</td><td>2002</td><td>200</td><td>F</td><td>8000</td><td>Supply</td><td>200</td></tr><tr><td>null</td><td>null</td><td>null</td><td>null</td><td>null</td><td>null</td><td>Sales</td><td>300</td></tr><tr><td>50</td><td>Rama Krish</td><td>2008</td><td>400</td><td>M</td><td>1000</td><td>Stock</td><td>400</td></tr></tbody></table></div>"
      ]
     },
     "metadata": {
      "application/vnd.databricks.v1+output": {
       "addedWidgets": {},
       "aggData": [],
       "aggError": "",
       "aggOverflow": false,
       "aggSchema": [],
       "aggSeriesLimitReached": false,
       "aggType": "",
       "arguments": {},
       "columnCustomDisplayInfos": {},
       "data": [
        [
         40,
         "Raja Singh",
         "2004",
         "100",
         "F",
         7000,
         "HR",
         100
        ],
        [
         30,
         "Raghav ",
         "2010",
         "100",
         null,
         6000,
         "HR",
         100
        ],
        [
         10,
         "Raj Kumar",
         "1999",
         "100",
         "M",
         2000,
         "HR",
         100
        ],
        [
         20,
         "Rahul Rajan",
         "2002",
         "200",
         "F",
         8000,
         "Supply",
         200
        ],
        [
         null,
         null,
         null,
         null,
         null,
         null,
         "Sales",
         300
        ],
        [
         50,
         "Rama Krish",
         "2008",
         "400",
         "M",
         1000,
         "Stock",
         400
        ]
       ],
       "datasetInfos": [],
       "dbfsResultPath": null,
       "isJsonSchema": true,
       "metadata": {},
       "overflow": false,
       "plotOptions": {
        "customPlotOptions": {},
        "displayType": "table",
        "pivotAggregation": null,
        "pivotColumns": null,
        "xColumns": null,
        "yColumns": null
       },
       "removedWidgets": [],
       "schema": [
        {
         "metadata": "{}",
         "name": "employee_id",
         "type": "\"long\""
        },
        {
         "metadata": "{}",
         "name": "name",
         "type": "\"string\""
        },
        {
         "metadata": "{}",
         "name": "doj",
         "type": "\"string\""
        },
        {
         "metadata": "{}",
         "name": "employee_dept_id",
         "type": "\"string\""
        },
        {
         "metadata": "{}",
         "name": "gender",
         "type": "\"string\""
        },
        {
         "metadata": "{}",
         "name": "salary",
         "type": "\"long\""
        },
        {
         "metadata": "{}",
         "name": "dept_name",
         "type": "\"string\""
        },
        {
         "metadata": "{}",
         "name": "dept_id",
         "type": "\"long\""
        }
       ],
       "type": "table"
      }
     },
     "output_type": "display_data"
    }
   ],
   "source": [
    "df_join = employeeDF.join(departmentDF, employeeDF.employee_dept_id == departmentDF.dept_id, \"right\")\n",
    "display(df_join)"
   ]
  },
  {
   "cell_type": "markdown",
   "metadata": {
    "application/vnd.databricks.v1+cell": {
     "cellMetadata": {
      "byteLimit": 2048000,
      "rowLimit": 10000
     },
     "inputWidgets": {},
     "nuid": "8ca4fba9-0e86-4c61-a52f-2b96a43a5774",
     "showTitle": false,
     "tableResultSettingsMap": {},
     "title": ""
    }
   },
   "source": [
    "#Left semi join\n",
    "*Left Semi -> semi, leftsemi, left_semi*"
   ]
  },
  {
   "cell_type": "code",
   "execution_count": 0,
   "metadata": {
    "application/vnd.databricks.v1+cell": {
     "cellMetadata": {
      "byteLimit": 2048000,
      "rowLimit": 10000
     },
     "inputWidgets": {},
     "nuid": "2e20b85e-424d-40c7-86f5-9eaaa0606787",
     "showTitle": false,
     "tableResultSettingsMap": {},
     "title": ""
    }
   },
   "outputs": [
    {
     "output_type": "display_data",
     "data": {
      "text/html": [
       "<style scoped>\n",
       "  .table-result-container {\n",
       "    max-height: 300px;\n",
       "    overflow: auto;\n",
       "  }\n",
       "  table, th, td {\n",
       "    border: 1px solid black;\n",
       "    border-collapse: collapse;\n",
       "  }\n",
       "  th, td {\n",
       "    padding: 5px;\n",
       "  }\n",
       "  th {\n",
       "    text-align: left;\n",
       "  }\n",
       "</style><div class='table-result-container'><table class='table-result'><thead style='background-color: white'><tr><th>employee_id</th><th>name</th><th>doj</th><th>employee_dept_id</th><th>gender</th><th>salary</th></tr></thead><tbody><tr><td>10</td><td>Raj Kumar</td><td>1999</td><td>100</td><td>M</td><td>2000</td></tr><tr><td>30</td><td>Raghav </td><td>2010</td><td>100</td><td>null</td><td>6000</td></tr><tr><td>40</td><td>Raja Singh</td><td>2004</td><td>100</td><td>F</td><td>7000</td></tr><tr><td>20</td><td>Rahul Rajan</td><td>2002</td><td>200</td><td>F</td><td>8000</td></tr><tr><td>50</td><td>Rama Krish</td><td>2008</td><td>400</td><td>M</td><td>1000</td></tr></tbody></table></div>"
      ]
     },
     "metadata": {
      "application/vnd.databricks.v1+output": {
       "addedWidgets": {},
       "aggData": [],
       "aggError": "",
       "aggOverflow": false,
       "aggSchema": [],
       "aggSeriesLimitReached": false,
       "aggType": "",
       "arguments": {},
       "columnCustomDisplayInfos": {},
       "data": [
        [
         10,
         "Raj Kumar",
         "1999",
         "100",
         "M",
         2000
        ],
        [
         30,
         "Raghav ",
         "2010",
         "100",
         null,
         6000
        ],
        [
         40,
         "Raja Singh",
         "2004",
         "100",
         "F",
         7000
        ],
        [
         20,
         "Rahul Rajan",
         "2002",
         "200",
         "F",
         8000
        ],
        [
         50,
         "Rama Krish",
         "2008",
         "400",
         "M",
         1000
        ]
       ],
       "datasetInfos": [],
       "dbfsResultPath": null,
       "isJsonSchema": true,
       "metadata": {},
       "overflow": false,
       "plotOptions": {
        "customPlotOptions": {},
        "displayType": "table",
        "pivotAggregation": null,
        "pivotColumns": null,
        "xColumns": null,
        "yColumns": null
       },
       "removedWidgets": [],
       "schema": [
        {
         "metadata": "{}",
         "name": "employee_id",
         "type": "\"long\""
        },
        {
         "metadata": "{}",
         "name": "name",
         "type": "\"string\""
        },
        {
         "metadata": "{}",
         "name": "doj",
         "type": "\"string\""
        },
        {
         "metadata": "{}",
         "name": "employee_dept_id",
         "type": "\"string\""
        },
        {
         "metadata": "{}",
         "name": "gender",
         "type": "\"string\""
        },
        {
         "metadata": "{}",
         "name": "salary",
         "type": "\"long\""
        }
       ],
       "type": "table"
      }
     },
     "output_type": "display_data"
    }
   ],
   "source": [
    "df_join = employeeDF.join(departmentDF, employeeDF.employee_dept_id == departmentDF.dept_id, \"left_semi\")\n",
    "display(df_join)"
   ]
  },
  {
   "cell_type": "markdown",
   "metadata": {
    "application/vnd.databricks.v1+cell": {
     "cellMetadata": {
      "byteLimit": 2048000,
      "rowLimit": 10000
     },
     "inputWidgets": {},
     "nuid": "8c3a9c64-f679-49c3-bd6f-9054dbcb09d2",
     "showTitle": false,
     "tableResultSettingsMap": {},
     "title": ""
    }
   },
   "source": [
    "#Left Anti join\n",
    "*Left Anti -> anti, leftanti, left_anti*"
   ]
  },
  {
   "cell_type": "code",
   "execution_count": 0,
   "metadata": {
    "application/vnd.databricks.v1+cell": {
     "cellMetadata": {
      "byteLimit": 2048000,
      "rowLimit": 10000
     },
     "inputWidgets": {},
     "nuid": "36d87ab0-b663-4bcc-9c68-f913f9dde1d8",
     "showTitle": false,
     "tableResultSettingsMap": {},
     "title": ""
    }
   },
   "outputs": [
    {
     "output_type": "display_data",
     "data": {
      "text/html": [
       "<style scoped>\n",
       "  .table-result-container {\n",
       "    max-height: 300px;\n",
       "    overflow: auto;\n",
       "  }\n",
       "  table, th, td {\n",
       "    border: 1px solid black;\n",
       "    border-collapse: collapse;\n",
       "  }\n",
       "  th, td {\n",
       "    padding: 5px;\n",
       "  }\n",
       "  th {\n",
       "    text-align: left;\n",
       "  }\n",
       "</style><div class='table-result-container'><table class='table-result'><thead style='background-color: white'><tr><th>employee_id</th><th>name</th><th>doj</th><th>employee_dept_id</th><th>gender</th><th>salary</th></tr></thead><tbody><tr><td>60</td><td>RasuL</td><td>2014</td><td>500</td><td>M</td><td>5000</td></tr><tr><td>70</td><td>Kumar Chand</td><td>2004</td><td>600</td><td>M</td><td>5000</td></tr></tbody></table></div>"
      ]
     },
     "metadata": {
      "application/vnd.databricks.v1+output": {
       "addedWidgets": {},
       "aggData": [],
       "aggError": "",
       "aggOverflow": false,
       "aggSchema": [],
       "aggSeriesLimitReached": false,
       "aggType": "",
       "arguments": {},
       "columnCustomDisplayInfos": {},
       "data": [
        [
         60,
         "RasuL",
         "2014",
         "500",
         "M",
         5000
        ],
        [
         70,
         "Kumar Chand",
         "2004",
         "600",
         "M",
         5000
        ]
       ],
       "datasetInfos": [],
       "dbfsResultPath": null,
       "isJsonSchema": true,
       "metadata": {},
       "overflow": false,
       "plotOptions": {
        "customPlotOptions": {},
        "displayType": "table",
        "pivotAggregation": null,
        "pivotColumns": null,
        "xColumns": null,
        "yColumns": null
       },
       "removedWidgets": [],
       "schema": [
        {
         "metadata": "{}",
         "name": "employee_id",
         "type": "\"long\""
        },
        {
         "metadata": "{}",
         "name": "name",
         "type": "\"string\""
        },
        {
         "metadata": "{}",
         "name": "doj",
         "type": "\"string\""
        },
        {
         "metadata": "{}",
         "name": "employee_dept_id",
         "type": "\"string\""
        },
        {
         "metadata": "{}",
         "name": "gender",
         "type": "\"string\""
        },
        {
         "metadata": "{}",
         "name": "salary",
         "type": "\"long\""
        }
       ],
       "type": "table"
      }
     },
     "output_type": "display_data"
    }
   ],
   "source": [
    "df_join1 = employeeDF.join(departmentDF, employeeDF.employee_dept_id == departmentDF.dept_id, \"anti\")\n",
    "display(df_join1)"
   ]
  }
 ],
 "metadata": {
  "application/vnd.databricks.v1+notebook": {
   "dashboards": [],
   "environmentMetadata": null,
   "language": "python",
   "notebookMetadata": {
    "pythonIndentUnit": 4
   },
   "notebookName": "04_joins",
   "widgets": {}
  }
 },
 "nbformat": 4,
 "nbformat_minor": 0
}
