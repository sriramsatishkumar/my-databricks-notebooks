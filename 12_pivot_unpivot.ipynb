{
 "cells": [
  {
   "cell_type": "code",
   "execution_count": 0,
   "metadata": {
    "application/vnd.databricks.v1+cell": {
     "cellMetadata": {
      "byteLimit": 2048000,
      "rowLimit": 10000
     },
     "inputWidgets": {},
     "nuid": "1038e936-5975-47e4-90c7-9c8e5a972b46",
     "showTitle": false,
     "tableResultSettingsMap": {},
     "title": ""
    }
   },
   "outputs": [
    {
     "output_type": "stream",
     "name": "stdout",
     "output_type": "stream",
     "text": [
      "3.3.2\n"
     ]
    }
   ],
   "source": [
    "from pyspark.sql import SparkSession\n",
    "\n",
    "spark = SparkSession.builder.master(\"local\").getOrCreate()\n",
    "\n",
    "print(spark.sparkContext.version)"
   ]
  },
  {
   "cell_type": "markdown",
   "metadata": {
    "application/vnd.databricks.v1+cell": {
     "cellMetadata": {
      "byteLimit": 2048000,
      "rowLimit": 10000
     },
     "inputWidgets": {},
     "nuid": "9fe79afb-a449-4278-947b-fded70bfe2f9",
     "showTitle": false,
     "tableResultSettingsMap": {},
     "title": ""
    }
   },
   "source": [
    "##### create sample df"
   ]
  },
  {
   "cell_type": "code",
   "execution_count": 0,
   "metadata": {
    "application/vnd.databricks.v1+cell": {
     "cellMetadata": {
      "byteLimit": 2048000,
      "rowLimit": 10000
     },
     "inputWidgets": {},
     "nuid": "4e416cba-e53b-493d-b905-5ed92b068c79",
     "showTitle": false,
     "tableResultSettingsMap": {},
     "title": ""
    }
   },
   "outputs": [
    {
     "output_type": "display_data",
     "data": {
      "text/html": [
       "<style scoped>\n",
       "  .table-result-container {\n",
       "    max-height: 300px;\n",
       "    overflow: auto;\n",
       "  }\n",
       "  table, th, td {\n",
       "    border: 1px solid black;\n",
       "    border-collapse: collapse;\n",
       "  }\n",
       "  th, td {\n",
       "    padding: 5px;\n",
       "  }\n",
       "  th {\n",
       "    text-align: left;\n",
       "  }\n",
       "</style><div class='table-result-container'><table class='table-result'><thead style='background-color: white'><tr><th>company_name</th><th>quarter</th><th>revenue</th></tr></thead><tbody><tr><td>ABC</td><td>Q1</td><td>6000</td></tr><tr><td>ABC</td><td>Q2</td><td>8000</td></tr><tr><td>ABC</td><td>Q3</td><td>4000</td></tr><tr><td>ABC</td><td>Q4</td><td>7000</td></tr><tr><td>XYZ</td><td>Q1</td><td>2000</td></tr><tr><td>XYZ</td><td>Q2</td><td>4000</td></tr><tr><td>XYZ</td><td>Q3</td><td>1000</td></tr><tr><td>XYZ</td><td>Q4</td><td>5000</td></tr></tbody></table></div>"
      ]
     },
     "metadata": {
      "application/vnd.databricks.v1+output": {
       "addedWidgets": {},
       "aggData": [],
       "aggError": "",
       "aggOverflow": false,
       "aggSchema": [],
       "aggSeriesLimitReached": false,
       "aggType": "",
       "arguments": {},
       "columnCustomDisplayInfos": {},
       "data": [
        [
         "ABC",
         "Q1",
         6000
        ],
        [
         "ABC",
         "Q2",
         8000
        ],
        [
         "ABC",
         "Q3",
         4000
        ],
        [
         "ABC",
         "Q4",
         7000
        ],
        [
         "XYZ",
         "Q1",
         2000
        ],
        [
         "XYZ",
         "Q2",
         4000
        ],
        [
         "XYZ",
         "Q3",
         1000
        ],
        [
         "XYZ",
         "Q4",
         5000
        ]
       ],
       "datasetInfos": [],
       "dbfsResultPath": null,
       "isJsonSchema": true,
       "metadata": {},
       "overflow": false,
       "plotOptions": {
        "customPlotOptions": {},
        "displayType": "table",
        "pivotAggregation": null,
        "pivotColumns": null,
        "xColumns": null,
        "yColumns": null
       },
       "removedWidgets": [],
       "schema": [
        {
         "metadata": "{}",
         "name": "company_name",
         "type": "\"string\""
        },
        {
         "metadata": "{}",
         "name": "quarter",
         "type": "\"string\""
        },
        {
         "metadata": "{}",
         "name": "revenue",
         "type": "\"long\""
        }
       ],
       "type": "table"
      }
     },
     "output_type": "display_data"
    }
   ],
   "source": [
    "data = [(\"ABC\", \"Q1\", 6000),(\"ABC\", \"Q2\", 8000),(\"ABC\", \"Q3\", 4000),(\"ABC\", \"Q4\", 7000),\n",
    "        (\"XYZ\", \"Q1\",2000),(\"XYZ\", \"Q2\",4000),(\"XYZ\", \"Q3\",1000),(\"XYZ\", \"Q4\",5000)]\n",
    "schema = [\"company_name\" , \"quarter\" , \"revenue\" ]\n",
    "\n",
    "df = spark.createDataFrame(data = data, schema = schema)\n",
    "display(df)"
   ]
  },
  {
   "cell_type": "markdown",
   "metadata": {
    "application/vnd.databricks.v1+cell": {
     "cellMetadata": {
      "byteLimit": 2048000,
      "rowLimit": 10000
     },
     "inputWidgets": {},
     "nuid": "556c5d82-8dc3-441a-8ddb-7da0bf1ce921",
     "showTitle": false,
     "tableResultSettingsMap": {},
     "title": ""
    }
   },
   "source": [
    "##### pivot from above df"
   ]
  },
  {
   "cell_type": "code",
   "execution_count": 0,
   "metadata": {
    "application/vnd.databricks.v1+cell": {
     "cellMetadata": {
      "byteLimit": 2048000,
      "rowLimit": 10000
     },
     "inputWidgets": {},
     "nuid": "d2c4f89b-9b55-4a61-aea3-d00eddfe8762",
     "showTitle": false,
     "tableResultSettingsMap": {},
     "title": ""
    }
   },
   "outputs": [
    {
     "output_type": "display_data",
     "data": {
      "text/html": [
       "<style scoped>\n",
       "  .table-result-container {\n",
       "    max-height: 300px;\n",
       "    overflow: auto;\n",
       "  }\n",
       "  table, th, td {\n",
       "    border: 1px solid black;\n",
       "    border-collapse: collapse;\n",
       "  }\n",
       "  th, td {\n",
       "    padding: 5px;\n",
       "  }\n",
       "  th {\n",
       "    text-align: left;\n",
       "  }\n",
       "</style><div class='table-result-container'><table class='table-result'><thead style='background-color: white'><tr><th>company_name</th><th>Q1</th><th>Q2</th><th>Q3</th><th>Q4</th></tr></thead><tbody><tr><td>XYZ</td><td>2000</td><td>4000</td><td>1000</td><td>5000</td></tr><tr><td>ABC</td><td>6000</td><td>8000</td><td>4000</td><td>7000</td></tr></tbody></table></div>"
      ]
     },
     "metadata": {
      "application/vnd.databricks.v1+output": {
       "addedWidgets": {},
       "aggData": [],
       "aggError": "",
       "aggOverflow": false,
       "aggSchema": [],
       "aggSeriesLimitReached": false,
       "aggType": "",
       "arguments": {},
       "columnCustomDisplayInfos": {},
       "data": [
        [
         "XYZ",
         2000,
         4000,
         1000,
         5000
        ],
        [
         "ABC",
         6000,
         8000,
         4000,
         7000
        ]
       ],
       "datasetInfos": [],
       "dbfsResultPath": null,
       "isJsonSchema": true,
       "metadata": {},
       "overflow": false,
       "plotOptions": {
        "customPlotOptions": {},
        "displayType": "table",
        "pivotAggregation": null,
        "pivotColumns": null,
        "xColumns": null,
        "yColumns": null
       },
       "removedWidgets": [],
       "schema": [
        {
         "metadata": "{}",
         "name": "company_name",
         "type": "\"string\""
        },
        {
         "metadata": "{}",
         "name": "Q1",
         "type": "\"long\""
        },
        {
         "metadata": "{}",
         "name": "Q2",
         "type": "\"long\""
        },
        {
         "metadata": "{}",
         "name": "Q3",
         "type": "\"long\""
        },
        {
         "metadata": "{}",
         "name": "Q4",
         "type": "\"long\""
        }
       ],
       "type": "table"
      }
     },
     "output_type": "display_data"
    }
   ],
   "source": [
    "pivot_df = df.groupBy(\"company_name\").pivot(\"quarter\").sum(\"revenue\")\n",
    "display(pivot_df)"
   ]
  },
  {
   "cell_type": "markdown",
   "metadata": {
    "application/vnd.databricks.v1+cell": {
     "cellMetadata": {
      "byteLimit": 2048000,
      "rowLimit": 10000
     },
     "inputWidgets": {},
     "nuid": "15f017ee-7ab5-4500-bd50-9920a176f773",
     "showTitle": false,
     "tableResultSettingsMap": {},
     "title": ""
    }
   },
   "source": [
    "##### un pivoting"
   ]
  },
  {
   "cell_type": "code",
   "execution_count": 0,
   "metadata": {
    "application/vnd.databricks.v1+cell": {
     "cellMetadata": {
      "byteLimit": 2048000,
      "rowLimit": 10000
     },
     "inputWidgets": {},
     "nuid": "7ffa7a95-3ba7-496c-a4fe-d90a80ce80b5",
     "showTitle": false,
     "tableResultSettingsMap": {},
     "title": ""
    }
   },
   "outputs": [
    {
     "output_type": "display_data",
     "data": {
      "text/html": [
       "<style scoped>\n",
       "  .table-result-container {\n",
       "    max-height: 300px;\n",
       "    overflow: auto;\n",
       "  }\n",
       "  table, th, td {\n",
       "    border: 1px solid black;\n",
       "    border-collapse: collapse;\n",
       "  }\n",
       "  th, td {\n",
       "    padding: 5px;\n",
       "  }\n",
       "  th {\n",
       "    text-align: left;\n",
       "  }\n",
       "</style><div class='table-result-container'><table class='table-result'><thead style='background-color: white'><tr><th>company_name</th><th>quarter_name</th><th>revenue</th></tr></thead><tbody><tr><td>XYZ</td><td>Q1</td><td>2000</td></tr><tr><td>XYZ</td><td>Q2</td><td>4000</td></tr><tr><td>XYZ</td><td>Q3</td><td>1000</td></tr><tr><td>XYZ</td><td>Q4</td><td>5000</td></tr><tr><td>ABC</td><td>Q1</td><td>6000</td></tr><tr><td>ABC</td><td>Q2</td><td>8000</td></tr><tr><td>ABC</td><td>Q3</td><td>4000</td></tr><tr><td>ABC</td><td>Q4</td><td>7000</td></tr></tbody></table></div>"
      ]
     },
     "metadata": {
      "application/vnd.databricks.v1+output": {
       "addedWidgets": {},
       "aggData": [],
       "aggError": "",
       "aggOverflow": false,
       "aggSchema": [],
       "aggSeriesLimitReached": false,
       "aggType": "",
       "arguments": {},
       "columnCustomDisplayInfos": {},
       "data": [
        [
         "XYZ",
         "Q1",
         2000
        ],
        [
         "XYZ",
         "Q2",
         4000
        ],
        [
         "XYZ",
         "Q3",
         1000
        ],
        [
         "XYZ",
         "Q4",
         5000
        ],
        [
         "ABC",
         "Q1",
         6000
        ],
        [
         "ABC",
         "Q2",
         8000
        ],
        [
         "ABC",
         "Q3",
         4000
        ],
        [
         "ABC",
         "Q4",
         7000
        ]
       ],
       "datasetInfos": [],
       "dbfsResultPath": null,
       "isJsonSchema": true,
       "metadata": {},
       "overflow": false,
       "plotOptions": {
        "customPlotOptions": {},
        "displayType": "table",
        "pivotAggregation": null,
        "pivotColumns": null,
        "xColumns": null,
        "yColumns": null
       },
       "removedWidgets": [],
       "schema": [
        {
         "metadata": "{}",
         "name": "company_name",
         "type": "\"string\""
        },
        {
         "metadata": "{}",
         "name": "quarter_name",
         "type": "\"string\""
        },
        {
         "metadata": "{}",
         "name": "revenue",
         "type": "\"long\""
        }
       ],
       "type": "table"
      }
     },
     "output_type": "display_data"
    }
   ],
   "source": [
    "unpivot_df = pivot_df.selectExpr(\"company_name\", \"stack(4,'Q1',Q1,'Q2',Q2,'Q3',Q3,'Q4',Q4)as(quarter_name,revenue)\")\n",
    "display(unpivot_df)\n"
   ]
  },
  {
   "cell_type": "code",
   "execution_count": 0,
   "metadata": {
    "application/vnd.databricks.v1+cell": {
     "cellMetadata": {
      "byteLimit": 2048000,
      "rowLimit": 10000
     },
     "inputWidgets": {},
     "nuid": "0c992c43-50d8-4e11-a162-45d6e40db3d3",
     "showTitle": false,
     "tableResultSettingsMap": {},
     "title": ""
    }
   },
   "outputs": [
    {
     "output_type": "display_data",
     "data": {
      "text/html": [
       "<style scoped>\n",
       "  .table-result-container {\n",
       "    max-height: 300px;\n",
       "    overflow: auto;\n",
       "  }\n",
       "  table, th, td {\n",
       "    border: 1px solid black;\n",
       "    border-collapse: collapse;\n",
       "  }\n",
       "  th, td {\n",
       "    padding: 5px;\n",
       "  }\n",
       "  th {\n",
       "    text-align: left;\n",
       "  }\n",
       "</style><div class='table-result-container'><table class='table-result'><thead style='background-color: white'><tr><th>name</th><th>gender</th><th>salary</th></tr></thead><tbody><tr><td>satish</td><td>M</td><td>6000</td></tr><tr><td>swapna</td><td>F</td><td>8000</td></tr><tr><td>suresh</td><td>M</td><td>4000</td></tr><tr><td>srivani</td><td>F</td><td>7000</td></tr><tr><td>srikanth</td><td>M</td><td>2000</td></tr><tr><td>divya</td><td>F</td><td>4000</td></tr><tr><td>srinivas</td><td>M</td><td>1000</td></tr><tr><td>swaroopa</td><td>F</td><td>5000</td></tr></tbody></table></div>"
      ]
     },
     "metadata": {
      "application/vnd.databricks.v1+output": {
       "addedWidgets": {},
       "aggData": [],
       "aggError": "",
       "aggOverflow": false,
       "aggSchema": [],
       "aggSeriesLimitReached": false,
       "aggType": "",
       "arguments": {},
       "columnCustomDisplayInfos": {},
       "data": [
        [
         "satish",
         "M",
         6000
        ],
        [
         "swapna",
         "F",
         8000
        ],
        [
         "suresh",
         "M",
         4000
        ],
        [
         "srivani",
         "F",
         7000
        ],
        [
         "srikanth",
         "M",
         2000
        ],
        [
         "divya",
         "F",
         4000
        ],
        [
         "srinivas",
         "M",
         1000
        ],
        [
         "swaroopa",
         "F",
         5000
        ]
       ],
       "datasetInfos": [],
       "dbfsResultPath": null,
       "isJsonSchema": true,
       "metadata": {},
       "overflow": false,
       "plotOptions": {
        "customPlotOptions": {},
        "displayType": "table",
        "pivotAggregation": null,
        "pivotColumns": null,
        "xColumns": null,
        "yColumns": null
       },
       "removedWidgets": [],
       "schema": [
        {
         "metadata": "{}",
         "name": "name",
         "type": "\"string\""
        },
        {
         "metadata": "{}",
         "name": "gender",
         "type": "\"string\""
        },
        {
         "metadata": "{}",
         "name": "salary",
         "type": "\"long\""
        }
       ],
       "type": "table"
      }
     },
     "output_type": "display_data"
    },
    {
     "output_type": "display_data",
     "data": {
      "text/html": [
       "<style scoped>\n",
       "  .table-result-container {\n",
       "    max-height: 300px;\n",
       "    overflow: auto;\n",
       "  }\n",
       "  table, th, td {\n",
       "    border: 1px solid black;\n",
       "    border-collapse: collapse;\n",
       "  }\n",
       "  th, td {\n",
       "    padding: 5px;\n",
       "  }\n",
       "  th {\n",
       "    text-align: left;\n",
       "  }\n",
       "</style><div class='table-result-container'><table class='table-result'><thead style='background-color: white'><tr><th>sumoffemalesal</th></tr></thead><tbody><tr><td>24000</td></tr></tbody></table></div>"
      ]
     },
     "metadata": {
      "application/vnd.databricks.v1+output": {
       "addedWidgets": {},
       "aggData": [],
       "aggError": "",
       "aggOverflow": false,
       "aggSchema": [],
       "aggSeriesLimitReached": false,
       "aggType": "",
       "arguments": {},
       "columnCustomDisplayInfos": {},
       "data": [
        [
         24000
        ]
       ],
       "datasetInfos": [],
       "dbfsResultPath": null,
       "isJsonSchema": true,
       "metadata": {},
       "overflow": false,
       "plotOptions": {
        "customPlotOptions": {},
        "displayType": "table",
        "pivotAggregation": null,
        "pivotColumns": null,
        "xColumns": null,
        "yColumns": null
       },
       "removedWidgets": [],
       "schema": [
        {
         "metadata": "{}",
         "name": "sumoffemalesal",
         "type": "\"long\""
        }
       ],
       "type": "table"
      }
     },
     "output_type": "display_data"
    }
   ],
   "source": [
    "from pyspark.sql import functions as F\n",
    "data1 = [(\"satish\", \"M\", 6000),(\"swapna\", \"F\", 8000),(\"suresh\", \"M\", 4000),(\"srivani\", \"F\", 7000),\n",
    "        (\"srikanth\", \"M\",2000),(\"divya\", \"F\",4000),(\"srinivas\", \"M\",1000),(\"swaroopa\", \"F\",5000)]\n",
    "schema1 = [\"name\" , \"gender\" , \"salary\" ]\n",
    "\n",
    "df1 = spark.createDataFrame(data = data1, schema = schema1)\n",
    "display(df1)\n",
    "female_sal = df1.filter(df1.gender == 'F').agg(F.sum(df1.salary).alias(\"sumoffemalesal\"))\n",
    "display(female_sal)"
   ]
  },
  {
   "cell_type": "code",
   "execution_count": 0,
   "metadata": {
    "application/vnd.databricks.v1+cell": {
     "cellMetadata": {
      "byteLimit": 2048000,
      "rowLimit": 10000
     },
     "inputWidgets": {},
     "nuid": "a15c4689-a173-40a9-b43e-261c046599bc",
     "showTitle": false,
     "tableResultSettingsMap": {},
     "title": ""
    }
   },
   "outputs": [
    {
     "output_type": "display_data",
     "data": {
      "text/html": [
       "<style scoped>\n",
       "  .table-result-container {\n",
       "    max-height: 300px;\n",
       "    overflow: auto;\n",
       "  }\n",
       "  table, th, td {\n",
       "    border: 1px solid black;\n",
       "    border-collapse: collapse;\n",
       "  }\n",
       "  th, td {\n",
       "    padding: 5px;\n",
       "  }\n",
       "  th {\n",
       "    text-align: left;\n",
       "  }\n",
       "</style><div class='table-result-container'><table class='table-result'><thead style='background-color: white'><tr><th>name</th><th>F</th><th>M</th></tr></thead><tbody><tr><td>swaroopa</td><td>5000</td><td>null</td></tr><tr><td>srinivas</td><td>null</td><td>1000</td></tr><tr><td>srikanth</td><td>null</td><td>2000</td></tr><tr><td>suresh</td><td>null</td><td>4000</td></tr><tr><td>swapna</td><td>8000</td><td>null</td></tr><tr><td>divya</td><td>4000</td><td>null</td></tr><tr><td>satish</td><td>null</td><td>6000</td></tr><tr><td>srivani</td><td>7000</td><td>null</td></tr></tbody></table></div>"
      ]
     },
     "metadata": {
      "application/vnd.databricks.v1+output": {
       "addedWidgets": {},
       "aggData": [],
       "aggError": "",
       "aggOverflow": false,
       "aggSchema": [],
       "aggSeriesLimitReached": false,
       "aggType": "",
       "arguments": {},
       "columnCustomDisplayInfos": {},
       "data": [
        [
         "swaroopa",
         5000,
         null
        ],
        [
         "srinivas",
         null,
         1000
        ],
        [
         "srikanth",
         null,
         2000
        ],
        [
         "suresh",
         null,
         4000
        ],
        [
         "swapna",
         8000,
         null
        ],
        [
         "divya",
         4000,
         null
        ],
        [
         "satish",
         null,
         6000
        ],
        [
         "srivani",
         7000,
         null
        ]
       ],
       "datasetInfos": [],
       "dbfsResultPath": null,
       "isJsonSchema": true,
       "metadata": {},
       "overflow": false,
       "plotOptions": {
        "customPlotOptions": {},
        "displayType": "table",
        "pivotAggregation": null,
        "pivotColumns": null,
        "xColumns": null,
        "yColumns": null
       },
       "removedWidgets": [],
       "schema": [
        {
         "metadata": "{}",
         "name": "name",
         "type": "\"string\""
        },
        {
         "metadata": "{}",
         "name": "F",
         "type": "\"long\""
        },
        {
         "metadata": "{}",
         "name": "M",
         "type": "\"long\""
        }
       ],
       "type": "table"
      }
     },
     "output_type": "display_data"
    },
    {
     "output_type": "display_data",
     "data": {
      "text/html": [
       "<style scoped>\n",
       "  .table-result-container {\n",
       "    max-height: 300px;\n",
       "    overflow: auto;\n",
       "  }\n",
       "  table, th, td {\n",
       "    border: 1px solid black;\n",
       "    border-collapse: collapse;\n",
       "  }\n",
       "  th, td {\n",
       "    padding: 5px;\n",
       "  }\n",
       "  th {\n",
       "    text-align: left;\n",
       "  }\n",
       "</style><div class='table-result-container'><table class='table-result'><thead style='background-color: white'><tr><th>name</th><th>gender</th><th>salary</th></tr></thead><tbody><tr><td>swaroopa</td><td>F</td><td>5000</td></tr><tr><td>srinivas</td><td>M</td><td>1000</td></tr><tr><td>srikanth</td><td>M</td><td>2000</td></tr><tr><td>suresh</td><td>M</td><td>4000</td></tr><tr><td>swapna</td><td>F</td><td>8000</td></tr><tr><td>divya</td><td>F</td><td>4000</td></tr><tr><td>satish</td><td>M</td><td>6000</td></tr><tr><td>srivani</td><td>F</td><td>7000</td></tr></tbody></table></div>"
      ]
     },
     "metadata": {
      "application/vnd.databricks.v1+output": {
       "addedWidgets": {},
       "aggData": [],
       "aggError": "",
       "aggOverflow": false,
       "aggSchema": [],
       "aggSeriesLimitReached": false,
       "aggType": "",
       "arguments": {},
       "columnCustomDisplayInfos": {},
       "data": [
        [
         "swaroopa",
         "F",
         5000
        ],
        [
         "srinivas",
         "M",
         1000
        ],
        [
         "srikanth",
         "M",
         2000
        ],
        [
         "suresh",
         "M",
         4000
        ],
        [
         "swapna",
         "F",
         8000
        ],
        [
         "divya",
         "F",
         4000
        ],
        [
         "satish",
         "M",
         6000
        ],
        [
         "srivani",
         "F",
         7000
        ]
       ],
       "datasetInfos": [],
       "dbfsResultPath": null,
       "isJsonSchema": true,
       "metadata": {},
       "overflow": false,
       "plotOptions": {
        "customPlotOptions": {},
        "displayType": "table",
        "pivotAggregation": null,
        "pivotColumns": null,
        "xColumns": null,
        "yColumns": null
       },
       "removedWidgets": [],
       "schema": [
        {
         "metadata": "{}",
         "name": "name",
         "type": "\"string\""
        },
        {
         "metadata": "{}",
         "name": "gender",
         "type": "\"string\""
        },
        {
         "metadata": "{}",
         "name": "salary",
         "type": "\"long\""
        }
       ],
       "type": "table"
      }
     },
     "output_type": "display_data"
    }
   ],
   "source": [
    "pivot_df1 = df1.groupBy(\"name\").pivot(\"gender\").sum(\"salary\")\n",
    "display(pivot_df1)\n",
    "unpivot_df1 = pivot_df1.selectExpr(\"name\", \"stack(2,'F',F,'M',M) as (gender,salary)\").where(\"salary is not null\")\n",
    "display(unpivot_df1)\n"
   ]
  }
 ],
 "metadata": {
  "application/vnd.databricks.v1+notebook": {
   "dashboards": [],
   "environmentMetadata": null,
   "language": "python",
   "notebookMetadata": {
    "pythonIndentUnit": 4
   },
   "notebookName": "12_pivot_unpivot",
   "widgets": {}
  }
 },
 "nbformat": 4,
 "nbformat_minor": 0
}
