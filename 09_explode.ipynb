{
 "cells": [
  {
   "cell_type": "markdown",
   "metadata": {
    "application/vnd.databricks.v1+cell": {
     "cellMetadata": {
      "byteLimit": 2048000,
      "rowLimit": 10000
     },
     "inputWidgets": {},
     "nuid": "c148a513-e53c-4ac4-a033-68f577d74f85",
     "showTitle": false,
     "tableResultSettingsMap": {},
     "title": ""
    }
   },
   "source": [
    "##### Create dataframe with array column"
   ]
  },
  {
   "cell_type": "code",
   "execution_count": 0,
   "metadata": {
    "application/vnd.databricks.v1+cell": {
     "cellMetadata": {
      "byteLimit": 2048000,
      "rowLimit": 10000
     },
     "inputWidgets": {},
     "nuid": "ebaba4b2-9c22-423a-bdee-689f3f108c14",
     "showTitle": false,
     "tableResultSettingsMap": {},
     "title": ""
    }
   },
   "outputs": [
    {
     "output_type": "stream",
     "name": "stdout",
     "output_type": "stream",
     "text": [
      "root\n |-- name: string (nullable = true)\n |-- Appliances: array (nullable = true)\n |    |-- element: string (containsNull = true)\n\n"
     ]
    },
    {
     "output_type": "display_data",
     "data": {
      "text/html": [
       "<style scoped>\n",
       "  .table-result-container {\n",
       "    max-height: 300px;\n",
       "    overflow: auto;\n",
       "  }\n",
       "  table, th, td {\n",
       "    border: 1px solid black;\n",
       "    border-collapse: collapse;\n",
       "  }\n",
       "  th, td {\n",
       "    padding: 5px;\n",
       "  }\n",
       "  th {\n",
       "    text-align: left;\n",
       "  }\n",
       "</style><div class='table-result-container'><table class='table-result'><thead style='background-color: white'><tr><th>name</th><th>Appliances</th></tr></thead><tbody><tr><td>Raja</td><td>List(TV, Refrigerator, Oven, AC)</td></tr><tr><td>Raghav</td><td>List(AC, Washing machine, null)</td></tr><tr><td>Ram</td><td>List(Grinder, TV)</td></tr><tr><td>Ramesh</td><td>List(Refrigerator, TV, null)</td></tr><tr><td>Rajesh</td><td>null</td></tr></tbody></table></div>"
      ]
     },
     "metadata": {
      "application/vnd.databricks.v1+output": {
       "addedWidgets": {},
       "aggData": [],
       "aggError": "",
       "aggOverflow": false,
       "aggSchema": [],
       "aggSeriesLimitReached": false,
       "aggType": "",
       "arguments": {},
       "columnCustomDisplayInfos": {},
       "data": [
        [
         "Raja",
         [
          "TV",
          "Refrigerator",
          "Oven",
          "AC"
         ]
        ],
        [
         "Raghav",
         [
          "AC",
          "Washing machine",
          null
         ]
        ],
        [
         "Ram",
         [
          "Grinder",
          "TV"
         ]
        ],
        [
         "Ramesh",
         [
          "Refrigerator",
          "TV",
          null
         ]
        ],
        [
         "Rajesh",
         null
        ]
       ],
       "datasetInfos": [],
       "dbfsResultPath": null,
       "isJsonSchema": true,
       "metadata": {},
       "overflow": false,
       "plotOptions": {
        "customPlotOptions": {},
        "displayType": "table",
        "pivotAggregation": null,
        "pivotColumns": null,
        "xColumns": null,
        "yColumns": null
       },
       "removedWidgets": [],
       "schema": [
        {
         "metadata": "{}",
         "name": "name",
         "type": "\"string\""
        },
        {
         "metadata": "{}",
         "name": "Appliances",
         "type": "{\"type\":\"array\",\"elementType\":\"string\",\"containsNull\":true}"
        }
       ],
       "type": "table"
      }
     },
     "output_type": "display_data"
    }
   ],
   "source": [
    "array_appliance = [\n",
    "                ('Raja',['TV','Refrigerator','Oven','AC']),\n",
    "                ('Raghav',['AC','Washing machine',None]),\n",
    "                ('Ram',['Grinder','TV']),\n",
    "                ('Ramesh',['Refrigerator','TV',None]),\n",
    "                ('Rajesh',None)\n",
    "            ]\n",
    "\n",
    "df_app = spark.createDataFrame(data=array_appliance, schema = ['name','Appliances'])\n",
    "df_app.printSchema()\n",
    "display(df_app)"
   ]
  },
  {
   "cell_type": "markdown",
   "metadata": {
    "application/vnd.databricks.v1+cell": {
     "cellMetadata": {
      "byteLimit": 2048000,
      "rowLimit": 10000
     },
     "inputWidgets": {},
     "nuid": "8c94cc29-0397-4af3-89fb-c61117778750",
     "showTitle": false,
     "tableResultSettingsMap": {},
     "title": ""
    }
   },
   "source": [
    "##### Create a dataframe with map column"
   ]
  },
  {
   "cell_type": "code",
   "execution_count": 0,
   "metadata": {
    "application/vnd.databricks.v1+cell": {
     "cellMetadata": {
      "byteLimit": 2048000,
      "rowLimit": 10000
     },
     "inputWidgets": {},
     "nuid": "0a6bd8fe-17e8-499b-bcbe-438068607266",
     "showTitle": false,
     "tableResultSettingsMap": {},
     "title": ""
    }
   },
   "outputs": [
    {
     "output_type": "stream",
     "name": "stdout",
     "output_type": "stream",
     "text": [
      "root\n |-- name: string (nullable = true)\n |-- Brand: map (nullable = true)\n |    |-- key: string\n |    |-- value: string (valueContainsNull = true)\n\n"
     ]
    },
    {
     "output_type": "display_data",
     "data": {
      "text/html": [
       "<style scoped>\n",
       "  .table-result-container {\n",
       "    max-height: 300px;\n",
       "    overflow: auto;\n",
       "  }\n",
       "  table, th, td {\n",
       "    border: 1px solid black;\n",
       "    border-collapse: collapse;\n",
       "  }\n",
       "  th, td {\n",
       "    padding: 5px;\n",
       "  }\n",
       "  th {\n",
       "    text-align: left;\n",
       "  }\n",
       "</style><div class='table-result-container'><table class='table-result'><thead style='background-color: white'><tr><th>name</th><th>Brand</th></tr></thead><tbody><tr><td>Raja</td><td>Map(Refrigerator -> Samsung, AC -> Voltas, TV -> LG, Oven -> Philipps)</td></tr><tr><td>Raghav</td><td>Map(AC -> Samsung, Washing machine -> LG)</td></tr><tr><td>Ram</td><td>Map(TV -> , Grinder -> Preethi)</td></tr><tr><td>Ramesh</td><td>Map(Refrigerator -> LG, TV -> Croma)</td></tr><tr><td>Rajesh</td><td>null</td></tr></tbody></table></div>"
      ]
     },
     "metadata": {
      "application/vnd.databricks.v1+output": {
       "addedWidgets": {},
       "aggData": [],
       "aggError": "",
       "aggOverflow": false,
       "aggSchema": [],
       "aggSeriesLimitReached": false,
       "aggType": "",
       "arguments": {},
       "columnCustomDisplayInfos": {},
       "data": [
        [
         "Raja",
         {
          "AC": "Voltas",
          "Oven": "Philipps",
          "Refrigerator": "Samsung",
          "TV": "LG"
         }
        ],
        [
         "Raghav",
         {
          "AC": "Samsung",
          "Washing machine": "LG"
         }
        ],
        [
         "Ram",
         {
          "Grinder": "Preethi",
          "TV": ""
         }
        ],
        [
         "Ramesh",
         {
          "Refrigerator": "LG",
          "TV": "Croma"
         }
        ],
        [
         "Rajesh",
         null
        ]
       ],
       "datasetInfos": [],
       "dbfsResultPath": null,
       "isJsonSchema": true,
       "metadata": {},
       "overflow": false,
       "plotOptions": {
        "customPlotOptions": {},
        "displayType": "table",
        "pivotAggregation": null,
        "pivotColumns": null,
        "xColumns": null,
        "yColumns": null
       },
       "removedWidgets": [],
       "schema": [
        {
         "metadata": "{}",
         "name": "name",
         "type": "\"string\""
        },
        {
         "metadata": "{}",
         "name": "Brand",
         "type": "{\"type\":\"map\",\"keyType\":\"string\",\"valueType\":\"string\",\"valueContainsNull\":true}"
        }
       ],
       "type": "table"
      }
     },
     "output_type": "display_data"
    }
   ],
   "source": [
    "map_brand = [\n",
    "            ('Raja', {'TV': 'LG', 'Refrigerator': 'Samsung', 'Oven' : 'Philipps', 'AC': 'Voltas' }), \n",
    "            ('Raghav', {'AC': 'Samsung', 'Washing machine': 'LG'}),\n",
    "            ('Ram', {'Grinder': 'Preethi','TV':''}),\n",
    "            ('Ramesh', {'Refrigerator': 'LG', 'TV' :'Croma'}),\n",
    "            ('Rajesh', None) ]\n",
    "df_brand = spark.createDataFrame(data=map_brand, schema = ['name', 'Brand'])\n",
    "df_brand.printSchema()\n",
    "display(df_brand)"
   ]
  },
  {
   "cell_type": "markdown",
   "metadata": {
    "application/vnd.databricks.v1+cell": {
     "cellMetadata": {
      "byteLimit": 2048000,
      "rowLimit": 10000
     },
     "inputWidgets": {},
     "nuid": "6b195f52-6d4b-4646-80bd-0977fa54cc7b",
     "showTitle": false,
     "tableResultSettingsMap": {},
     "title": ""
    }
   },
   "source": [
    "#####Explode array field"
   ]
  },
  {
   "cell_type": "code",
   "execution_count": 0,
   "metadata": {
    "application/vnd.databricks.v1+cell": {
     "cellMetadata": {
      "byteLimit": 2048000,
      "rowLimit": 10000
     },
     "inputWidgets": {},
     "nuid": "927a5e6c-7996-48dd-8b95-5825c598cb90",
     "showTitle": false,
     "tableResultSettingsMap": {},
     "title": ""
    }
   },
   "outputs": [
    {
     "output_type": "stream",
     "name": "stdout",
     "output_type": "stream",
     "text": [
      "root\n |-- name: string (nullable = true)\n |-- Appliances: array (nullable = true)\n |    |-- element: string (containsNull = true)\n\nroot\n |-- name: string (nullable = true)\n |-- col: string (nullable = true)\n\n"
     ]
    },
    {
     "output_type": "display_data",
     "data": {
      "text/html": [
       "<style scoped>\n",
       "  .table-result-container {\n",
       "    max-height: 300px;\n",
       "    overflow: auto;\n",
       "  }\n",
       "  table, th, td {\n",
       "    border: 1px solid black;\n",
       "    border-collapse: collapse;\n",
       "  }\n",
       "  th, td {\n",
       "    padding: 5px;\n",
       "  }\n",
       "  th {\n",
       "    text-align: left;\n",
       "  }\n",
       "</style><div class='table-result-container'><table class='table-result'><thead style='background-color: white'><tr><th>name</th><th>Appliances</th></tr></thead><tbody><tr><td>Raja</td><td>List(TV, Refrigerator, Oven, AC)</td></tr><tr><td>Raghav</td><td>List(AC, Washing machine, null)</td></tr><tr><td>Ram</td><td>List(Grinder, TV)</td></tr><tr><td>Ramesh</td><td>List(Refrigerator, TV, null)</td></tr><tr><td>Rajesh</td><td>null</td></tr></tbody></table></div>"
      ]
     },
     "metadata": {
      "application/vnd.databricks.v1+output": {
       "addedWidgets": {},
       "aggData": [],
       "aggError": "",
       "aggOverflow": false,
       "aggSchema": [],
       "aggSeriesLimitReached": false,
       "aggType": "",
       "arguments": {},
       "columnCustomDisplayInfos": {},
       "data": [
        [
         "Raja",
         [
          "TV",
          "Refrigerator",
          "Oven",
          "AC"
         ]
        ],
        [
         "Raghav",
         [
          "AC",
          "Washing machine",
          null
         ]
        ],
        [
         "Ram",
         [
          "Grinder",
          "TV"
         ]
        ],
        [
         "Ramesh",
         [
          "Refrigerator",
          "TV",
          null
         ]
        ],
        [
         "Rajesh",
         null
        ]
       ],
       "datasetInfos": [],
       "dbfsResultPath": null,
       "isJsonSchema": true,
       "metadata": {},
       "overflow": false,
       "plotOptions": {
        "customPlotOptions": {},
        "displayType": "table",
        "pivotAggregation": null,
        "pivotColumns": null,
        "xColumns": null,
        "yColumns": null
       },
       "removedWidgets": [],
       "schema": [
        {
         "metadata": "{}",
         "name": "name",
         "type": "\"string\""
        },
        {
         "metadata": "{}",
         "name": "Appliances",
         "type": "{\"type\":\"array\",\"elementType\":\"string\",\"containsNull\":true}"
        }
       ],
       "type": "table"
      }
     },
     "output_type": "display_data"
    },
    {
     "output_type": "display_data",
     "data": {
      "text/html": [
       "<style scoped>\n",
       "  .table-result-container {\n",
       "    max-height: 300px;\n",
       "    overflow: auto;\n",
       "  }\n",
       "  table, th, td {\n",
       "    border: 1px solid black;\n",
       "    border-collapse: collapse;\n",
       "  }\n",
       "  th, td {\n",
       "    padding: 5px;\n",
       "  }\n",
       "  th {\n",
       "    text-align: left;\n",
       "  }\n",
       "</style><div class='table-result-container'><table class='table-result'><thead style='background-color: white'><tr><th>name</th><th>col</th></tr></thead><tbody><tr><td>Raja</td><td>TV</td></tr><tr><td>Raja</td><td>Refrigerator</td></tr><tr><td>Raja</td><td>Oven</td></tr><tr><td>Raja</td><td>AC</td></tr><tr><td>Raghav</td><td>AC</td></tr><tr><td>Raghav</td><td>Washing machine</td></tr><tr><td>Raghav</td><td>null</td></tr><tr><td>Ram</td><td>Grinder</td></tr><tr><td>Ram</td><td>TV</td></tr><tr><td>Ramesh</td><td>Refrigerator</td></tr><tr><td>Ramesh</td><td>TV</td></tr><tr><td>Ramesh</td><td>null</td></tr></tbody></table></div>"
      ]
     },
     "metadata": {
      "application/vnd.databricks.v1+output": {
       "addedWidgets": {},
       "aggData": [],
       "aggError": "",
       "aggOverflow": false,
       "aggSchema": [],
       "aggSeriesLimitReached": false,
       "aggType": "",
       "arguments": {},
       "columnCustomDisplayInfos": {},
       "data": [
        [
         "Raja",
         "TV"
        ],
        [
         "Raja",
         "Refrigerator"
        ],
        [
         "Raja",
         "Oven"
        ],
        [
         "Raja",
         "AC"
        ],
        [
         "Raghav",
         "AC"
        ],
        [
         "Raghav",
         "Washing machine"
        ],
        [
         "Raghav",
         null
        ],
        [
         "Ram",
         "Grinder"
        ],
        [
         "Ram",
         "TV"
        ],
        [
         "Ramesh",
         "Refrigerator"
        ],
        [
         "Ramesh",
         "TV"
        ],
        [
         "Ramesh",
         null
        ]
       ],
       "datasetInfos": [],
       "dbfsResultPath": null,
       "isJsonSchema": true,
       "metadata": {},
       "overflow": false,
       "plotOptions": {
        "customPlotOptions": {},
        "displayType": "table",
        "pivotAggregation": null,
        "pivotColumns": null,
        "xColumns": null,
        "yColumns": null
       },
       "removedWidgets": [],
       "schema": [
        {
         "metadata": "{}",
         "name": "name",
         "type": "\"string\""
        },
        {
         "metadata": "{}",
         "name": "col",
         "type": "\"string\""
        }
       ],
       "type": "table"
      }
     },
     "output_type": "display_data"
    }
   ],
   "source": [
    "from pyspark.sql.functions import explode\n",
    "\n",
    "df_explode_array = df_app.select(df_app.name, explode(df_app.Appliances))\n",
    "\n",
    "df_app.printSchema()\n",
    "df_explode_array.printSchema()\n",
    "\n",
    "display(df_app)\n",
    "display(df_explode_array)"
   ]
  },
  {
   "cell_type": "markdown",
   "metadata": {
    "application/vnd.databricks.v1+cell": {
     "cellMetadata": {
      "byteLimit": 2048000,
      "rowLimit": 10000
     },
     "inputWidgets": {},
     "nuid": "127f0bb2-cc4d-44e3-ae0e-d03794c52c1b",
     "showTitle": false,
     "tableResultSettingsMap": {},
     "title": ""
    }
   },
   "source": [
    "#####Explode map field"
   ]
  },
  {
   "cell_type": "code",
   "execution_count": 0,
   "metadata": {
    "application/vnd.databricks.v1+cell": {
     "cellMetadata": {
      "byteLimit": 2048000,
      "rowLimit": 10000
     },
     "inputWidgets": {},
     "nuid": "966354fd-fab4-4b07-b121-d864624e65cf",
     "showTitle": false,
     "tableResultSettingsMap": {},
     "title": ""
    }
   },
   "outputs": [
    {
     "output_type": "stream",
     "name": "stdout",
     "output_type": "stream",
     "text": [
      "root\n |-- name: string (nullable = true)\n |-- Brand: map (nullable = true)\n |    |-- key: string\n |    |-- value: string (valueContainsNull = true)\n\nroot\n |-- name: string (nullable = true)\n |-- key: string (nullable = false)\n |-- value: string (nullable = true)\n\n"
     ]
    },
    {
     "output_type": "display_data",
     "data": {
      "text/html": [
       "<style scoped>\n",
       "  .table-result-container {\n",
       "    max-height: 300px;\n",
       "    overflow: auto;\n",
       "  }\n",
       "  table, th, td {\n",
       "    border: 1px solid black;\n",
       "    border-collapse: collapse;\n",
       "  }\n",
       "  th, td {\n",
       "    padding: 5px;\n",
       "  }\n",
       "  th {\n",
       "    text-align: left;\n",
       "  }\n",
       "</style><div class='table-result-container'><table class='table-result'><thead style='background-color: white'><tr><th>name</th><th>Brand</th></tr></thead><tbody><tr><td>Raja</td><td>Map(Refrigerator -> Samsung, AC -> Voltas, TV -> LG, Oven -> Philipps)</td></tr><tr><td>Raghav</td><td>Map(AC -> Samsung, Washing machine -> LG)</td></tr><tr><td>Ram</td><td>Map(TV -> , Grinder -> Preethi)</td></tr><tr><td>Ramesh</td><td>Map(Refrigerator -> LG, TV -> Croma)</td></tr><tr><td>Rajesh</td><td>null</td></tr></tbody></table></div>"
      ]
     },
     "metadata": {
      "application/vnd.databricks.v1+output": {
       "addedWidgets": {},
       "aggData": [],
       "aggError": "",
       "aggOverflow": false,
       "aggSchema": [],
       "aggSeriesLimitReached": false,
       "aggType": "",
       "arguments": {},
       "columnCustomDisplayInfos": {},
       "data": [
        [
         "Raja",
         {
          "AC": "Voltas",
          "Oven": "Philipps",
          "Refrigerator": "Samsung",
          "TV": "LG"
         }
        ],
        [
         "Raghav",
         {
          "AC": "Samsung",
          "Washing machine": "LG"
         }
        ],
        [
         "Ram",
         {
          "Grinder": "Preethi",
          "TV": ""
         }
        ],
        [
         "Ramesh",
         {
          "Refrigerator": "LG",
          "TV": "Croma"
         }
        ],
        [
         "Rajesh",
         null
        ]
       ],
       "datasetInfos": [],
       "dbfsResultPath": null,
       "isJsonSchema": true,
       "metadata": {},
       "overflow": false,
       "plotOptions": {
        "customPlotOptions": {},
        "displayType": "table",
        "pivotAggregation": null,
        "pivotColumns": null,
        "xColumns": null,
        "yColumns": null
       },
       "removedWidgets": [],
       "schema": [
        {
         "metadata": "{}",
         "name": "name",
         "type": "\"string\""
        },
        {
         "metadata": "{}",
         "name": "Brand",
         "type": "{\"type\":\"map\",\"keyType\":\"string\",\"valueType\":\"string\",\"valueContainsNull\":true}"
        }
       ],
       "type": "table"
      }
     },
     "output_type": "display_data"
    },
    {
     "output_type": "display_data",
     "data": {
      "text/html": [
       "<style scoped>\n",
       "  .table-result-container {\n",
       "    max-height: 300px;\n",
       "    overflow: auto;\n",
       "  }\n",
       "  table, th, td {\n",
       "    border: 1px solid black;\n",
       "    border-collapse: collapse;\n",
       "  }\n",
       "  th, td {\n",
       "    padding: 5px;\n",
       "  }\n",
       "  th {\n",
       "    text-align: left;\n",
       "  }\n",
       "</style><div class='table-result-container'><table class='table-result'><thead style='background-color: white'><tr><th>name</th><th>key</th><th>value</th></tr></thead><tbody><tr><td>Raja</td><td>Refrigerator</td><td>Samsung</td></tr><tr><td>Raja</td><td>AC</td><td>Voltas</td></tr><tr><td>Raja</td><td>TV</td><td>LG</td></tr><tr><td>Raja</td><td>Oven</td><td>Philipps</td></tr><tr><td>Raghav</td><td>AC</td><td>Samsung</td></tr><tr><td>Raghav</td><td>Washing machine</td><td>LG</td></tr><tr><td>Ram</td><td>TV</td><td></td></tr><tr><td>Ram</td><td>Grinder</td><td>Preethi</td></tr><tr><td>Ramesh</td><td>Refrigerator</td><td>LG</td></tr><tr><td>Ramesh</td><td>TV</td><td>Croma</td></tr></tbody></table></div>"
      ]
     },
     "metadata": {
      "application/vnd.databricks.v1+output": {
       "addedWidgets": {},
       "aggData": [],
       "aggError": "",
       "aggOverflow": false,
       "aggSchema": [],
       "aggSeriesLimitReached": false,
       "aggType": "",
       "arguments": {},
       "columnCustomDisplayInfos": {},
       "data": [
        [
         "Raja",
         "Refrigerator",
         "Samsung"
        ],
        [
         "Raja",
         "AC",
         "Voltas"
        ],
        [
         "Raja",
         "TV",
         "LG"
        ],
        [
         "Raja",
         "Oven",
         "Philipps"
        ],
        [
         "Raghav",
         "AC",
         "Samsung"
        ],
        [
         "Raghav",
         "Washing machine",
         "LG"
        ],
        [
         "Ram",
         "TV",
         ""
        ],
        [
         "Ram",
         "Grinder",
         "Preethi"
        ],
        [
         "Ramesh",
         "Refrigerator",
         "LG"
        ],
        [
         "Ramesh",
         "TV",
         "Croma"
        ]
       ],
       "datasetInfos": [],
       "dbfsResultPath": null,
       "isJsonSchema": true,
       "metadata": {},
       "overflow": false,
       "plotOptions": {
        "customPlotOptions": {},
        "displayType": "table",
        "pivotAggregation": null,
        "pivotColumns": null,
        "xColumns": null,
        "yColumns": null
       },
       "removedWidgets": [],
       "schema": [
        {
         "metadata": "{}",
         "name": "name",
         "type": "\"string\""
        },
        {
         "metadata": "{}",
         "name": "key",
         "type": "\"string\""
        },
        {
         "metadata": "{}",
         "name": "value",
         "type": "\"string\""
        }
       ],
       "type": "table"
      }
     },
     "output_type": "display_data"
    }
   ],
   "source": [
    "from pyspark.sql.functions import explode\n",
    "\n",
    "df_explode_map = df_brand.select(df_brand.name, explode(df_brand.Brand))\n",
    "\n",
    "df_brand.printSchema()\n",
    "df_explode_map.printSchema()\n",
    "\n",
    "display(df_brand)\n",
    "display(df_explode_map)\n"
   ]
  },
  {
   "cell_type": "markdown",
   "metadata": {
    "application/vnd.databricks.v1+cell": {
     "cellMetadata": {
      "byteLimit": 2048000,
      "rowLimit": 10000
     },
     "inputWidgets": {},
     "nuid": "5a0c98fb-8b60-407e-b895-f8ea8c6591c4",
     "showTitle": false,
     "tableResultSettingsMap": {},
     "title": ""
    }
   },
   "source": [
    "##### Explode outer to consider the null values"
   ]
  },
  {
   "cell_type": "code",
   "execution_count": 0,
   "metadata": {
    "application/vnd.databricks.v1+cell": {
     "cellMetadata": {
      "byteLimit": 2048000,
      "rowLimit": 10000
     },
     "inputWidgets": {},
     "nuid": "a4ac97a8-b625-46b5-8f87-e735a8882a32",
     "showTitle": false,
     "tableResultSettingsMap": {},
     "title": ""
    }
   },
   "outputs": [
    {
     "output_type": "stream",
     "name": "stdout",
     "output_type": "stream",
     "text": [
      "root\n |-- name: string (nullable = true)\n |-- Appliances: array (nullable = true)\n |    |-- element: string (containsNull = true)\n\nroot\n |-- name: string (nullable = true)\n |-- col: string (nullable = true)\n\n"
     ]
    },
    {
     "output_type": "display_data",
     "data": {
      "text/html": [
       "<style scoped>\n",
       "  .table-result-container {\n",
       "    max-height: 300px;\n",
       "    overflow: auto;\n",
       "  }\n",
       "  table, th, td {\n",
       "    border: 1px solid black;\n",
       "    border-collapse: collapse;\n",
       "  }\n",
       "  th, td {\n",
       "    padding: 5px;\n",
       "  }\n",
       "  th {\n",
       "    text-align: left;\n",
       "  }\n",
       "</style><div class='table-result-container'><table class='table-result'><thead style='background-color: white'><tr><th>name</th><th>Appliances</th></tr></thead><tbody><tr><td>Raja</td><td>List(TV, Refrigerator, Oven, AC)</td></tr><tr><td>Raghav</td><td>List(AC, Washing machine, null)</td></tr><tr><td>Ram</td><td>List(Grinder, TV)</td></tr><tr><td>Ramesh</td><td>List(Refrigerator, TV, null)</td></tr><tr><td>Rajesh</td><td>null</td></tr></tbody></table></div>"
      ]
     },
     "metadata": {
      "application/vnd.databricks.v1+output": {
       "addedWidgets": {},
       "aggData": [],
       "aggError": "",
       "aggOverflow": false,
       "aggSchema": [],
       "aggSeriesLimitReached": false,
       "aggType": "",
       "arguments": {},
       "columnCustomDisplayInfos": {},
       "data": [
        [
         "Raja",
         [
          "TV",
          "Refrigerator",
          "Oven",
          "AC"
         ]
        ],
        [
         "Raghav",
         [
          "AC",
          "Washing machine",
          null
         ]
        ],
        [
         "Ram",
         [
          "Grinder",
          "TV"
         ]
        ],
        [
         "Ramesh",
         [
          "Refrigerator",
          "TV",
          null
         ]
        ],
        [
         "Rajesh",
         null
        ]
       ],
       "datasetInfos": [],
       "dbfsResultPath": null,
       "isJsonSchema": true,
       "metadata": {},
       "overflow": false,
       "plotOptions": {
        "customPlotOptions": {},
        "displayType": "table",
        "pivotAggregation": null,
        "pivotColumns": null,
        "xColumns": null,
        "yColumns": null
       },
       "removedWidgets": [],
       "schema": [
        {
         "metadata": "{}",
         "name": "name",
         "type": "\"string\""
        },
        {
         "metadata": "{}",
         "name": "Appliances",
         "type": "{\"type\":\"array\",\"elementType\":\"string\",\"containsNull\":true}"
        }
       ],
       "type": "table"
      }
     },
     "output_type": "display_data"
    },
    {
     "output_type": "display_data",
     "data": {
      "text/html": [
       "<style scoped>\n",
       "  .table-result-container {\n",
       "    max-height: 300px;\n",
       "    overflow: auto;\n",
       "  }\n",
       "  table, th, td {\n",
       "    border: 1px solid black;\n",
       "    border-collapse: collapse;\n",
       "  }\n",
       "  th, td {\n",
       "    padding: 5px;\n",
       "  }\n",
       "  th {\n",
       "    text-align: left;\n",
       "  }\n",
       "</style><div class='table-result-container'><table class='table-result'><thead style='background-color: white'><tr><th>name</th><th>col</th></tr></thead><tbody><tr><td>Raja</td><td>TV</td></tr><tr><td>Raja</td><td>Refrigerator</td></tr><tr><td>Raja</td><td>Oven</td></tr><tr><td>Raja</td><td>AC</td></tr><tr><td>Raghav</td><td>AC</td></tr><tr><td>Raghav</td><td>Washing machine</td></tr><tr><td>Raghav</td><td>null</td></tr><tr><td>Ram</td><td>Grinder</td></tr><tr><td>Ram</td><td>TV</td></tr><tr><td>Ramesh</td><td>Refrigerator</td></tr><tr><td>Ramesh</td><td>TV</td></tr><tr><td>Ramesh</td><td>null</td></tr><tr><td>Rajesh</td><td>null</td></tr></tbody></table></div>"
      ]
     },
     "metadata": {
      "application/vnd.databricks.v1+output": {
       "addedWidgets": {},
       "aggData": [],
       "aggError": "",
       "aggOverflow": false,
       "aggSchema": [],
       "aggSeriesLimitReached": false,
       "aggType": "",
       "arguments": {},
       "columnCustomDisplayInfos": {},
       "data": [
        [
         "Raja",
         "TV"
        ],
        [
         "Raja",
         "Refrigerator"
        ],
        [
         "Raja",
         "Oven"
        ],
        [
         "Raja",
         "AC"
        ],
        [
         "Raghav",
         "AC"
        ],
        [
         "Raghav",
         "Washing machine"
        ],
        [
         "Raghav",
         null
        ],
        [
         "Ram",
         "Grinder"
        ],
        [
         "Ram",
         "TV"
        ],
        [
         "Ramesh",
         "Refrigerator"
        ],
        [
         "Ramesh",
         "TV"
        ],
        [
         "Ramesh",
         null
        ],
        [
         "Rajesh",
         null
        ]
       ],
       "datasetInfos": [],
       "dbfsResultPath": null,
       "isJsonSchema": true,
       "metadata": {},
       "overflow": false,
       "plotOptions": {
        "customPlotOptions": {},
        "displayType": "table",
        "pivotAggregation": null,
        "pivotColumns": null,
        "xColumns": null,
        "yColumns": null
       },
       "removedWidgets": [],
       "schema": [
        {
         "metadata": "{}",
         "name": "name",
         "type": "\"string\""
        },
        {
         "metadata": "{}",
         "name": "col",
         "type": "\"string\""
        }
       ],
       "type": "table"
      }
     },
     "output_type": "display_data"
    }
   ],
   "source": [
    "from pyspark.sql.functions import explode_outer\n",
    "\n",
    "df_expouter_array = df_app.select(df_app.name, explode_outer(df_app.Appliances))\n",
    "\n",
    "df_app.printSchema()\n",
    "df_expouter_array.printSchema()\n",
    "\n",
    "display(df_app)\n",
    "display(df_expouter_array)"
   ]
  },
  {
   "cell_type": "markdown",
   "metadata": {
    "application/vnd.databricks.v1+cell": {
     "cellMetadata": {
      "byteLimit": 2048000,
      "rowLimit": 10000
     },
     "inputWidgets": {},
     "nuid": "1bb3979c-5716-4627-bf26-7af03c0cd359",
     "showTitle": false,
     "tableResultSettingsMap": {},
     "title": ""
    }
   },
   "source": [
    "##### Explode_outer map field to consider the null values"
   ]
  },
  {
   "cell_type": "code",
   "execution_count": 0,
   "metadata": {
    "application/vnd.databricks.v1+cell": {
     "cellMetadata": {
      "byteLimit": 2048000,
      "rowLimit": 10000
     },
     "inputWidgets": {},
     "nuid": "744b3f4c-e38d-426f-8758-abb4da48f720",
     "showTitle": false,
     "tableResultSettingsMap": {},
     "title": ""
    }
   },
   "outputs": [
    {
     "output_type": "stream",
     "name": "stdout",
     "output_type": "stream",
     "text": [
      "root\n |-- name: string (nullable = true)\n |-- Brand: map (nullable = true)\n |    |-- key: string\n |    |-- value: string (valueContainsNull = true)\n\nroot\n |-- name: string (nullable = true)\n |-- key: string (nullable = true)\n |-- value: string (nullable = true)\n\n"
     ]
    },
    {
     "output_type": "display_data",
     "data": {
      "text/html": [
       "<style scoped>\n",
       "  .table-result-container {\n",
       "    max-height: 300px;\n",
       "    overflow: auto;\n",
       "  }\n",
       "  table, th, td {\n",
       "    border: 1px solid black;\n",
       "    border-collapse: collapse;\n",
       "  }\n",
       "  th, td {\n",
       "    padding: 5px;\n",
       "  }\n",
       "  th {\n",
       "    text-align: left;\n",
       "  }\n",
       "</style><div class='table-result-container'><table class='table-result'><thead style='background-color: white'><tr><th>name</th><th>Brand</th></tr></thead><tbody><tr><td>Raja</td><td>Map(Refrigerator -> Samsung, AC -> Voltas, TV -> LG, Oven -> Philipps)</td></tr><tr><td>Raghav</td><td>Map(AC -> Samsung, Washing machine -> LG)</td></tr><tr><td>Ram</td><td>Map(TV -> , Grinder -> Preethi)</td></tr><tr><td>Ramesh</td><td>Map(Refrigerator -> LG, TV -> Croma)</td></tr><tr><td>Rajesh</td><td>null</td></tr></tbody></table></div>"
      ]
     },
     "metadata": {
      "application/vnd.databricks.v1+output": {
       "addedWidgets": {},
       "aggData": [],
       "aggError": "",
       "aggOverflow": false,
       "aggSchema": [],
       "aggSeriesLimitReached": false,
       "aggType": "",
       "arguments": {},
       "columnCustomDisplayInfos": {},
       "data": [
        [
         "Raja",
         {
          "AC": "Voltas",
          "Oven": "Philipps",
          "Refrigerator": "Samsung",
          "TV": "LG"
         }
        ],
        [
         "Raghav",
         {
          "AC": "Samsung",
          "Washing machine": "LG"
         }
        ],
        [
         "Ram",
         {
          "Grinder": "Preethi",
          "TV": ""
         }
        ],
        [
         "Ramesh",
         {
          "Refrigerator": "LG",
          "TV": "Croma"
         }
        ],
        [
         "Rajesh",
         null
        ]
       ],
       "datasetInfos": [],
       "dbfsResultPath": null,
       "isJsonSchema": true,
       "metadata": {},
       "overflow": false,
       "plotOptions": {
        "customPlotOptions": {},
        "displayType": "table",
        "pivotAggregation": null,
        "pivotColumns": null,
        "xColumns": null,
        "yColumns": null
       },
       "removedWidgets": [],
       "schema": [
        {
         "metadata": "{}",
         "name": "name",
         "type": "\"string\""
        },
        {
         "metadata": "{}",
         "name": "Brand",
         "type": "{\"type\":\"map\",\"keyType\":\"string\",\"valueType\":\"string\",\"valueContainsNull\":true}"
        }
       ],
       "type": "table"
      }
     },
     "output_type": "display_data"
    },
    {
     "output_type": "display_data",
     "data": {
      "text/html": [
       "<style scoped>\n",
       "  .table-result-container {\n",
       "    max-height: 300px;\n",
       "    overflow: auto;\n",
       "  }\n",
       "  table, th, td {\n",
       "    border: 1px solid black;\n",
       "    border-collapse: collapse;\n",
       "  }\n",
       "  th, td {\n",
       "    padding: 5px;\n",
       "  }\n",
       "  th {\n",
       "    text-align: left;\n",
       "  }\n",
       "</style><div class='table-result-container'><table class='table-result'><thead style='background-color: white'><tr><th>name</th><th>key</th><th>value</th></tr></thead><tbody><tr><td>Raja</td><td>Refrigerator</td><td>Samsung</td></tr><tr><td>Raja</td><td>AC</td><td>Voltas</td></tr><tr><td>Raja</td><td>TV</td><td>LG</td></tr><tr><td>Raja</td><td>Oven</td><td>Philipps</td></tr><tr><td>Raghav</td><td>AC</td><td>Samsung</td></tr><tr><td>Raghav</td><td>Washing machine</td><td>LG</td></tr><tr><td>Ram</td><td>TV</td><td></td></tr><tr><td>Ram</td><td>Grinder</td><td>Preethi</td></tr><tr><td>Ramesh</td><td>Refrigerator</td><td>LG</td></tr><tr><td>Ramesh</td><td>TV</td><td>Croma</td></tr><tr><td>Rajesh</td><td>null</td><td>null</td></tr></tbody></table></div>"
      ]
     },
     "metadata": {
      "application/vnd.databricks.v1+output": {
       "addedWidgets": {},
       "aggData": [],
       "aggError": "",
       "aggOverflow": false,
       "aggSchema": [],
       "aggSeriesLimitReached": false,
       "aggType": "",
       "arguments": {},
       "columnCustomDisplayInfos": {},
       "data": [
        [
         "Raja",
         "Refrigerator",
         "Samsung"
        ],
        [
         "Raja",
         "AC",
         "Voltas"
        ],
        [
         "Raja",
         "TV",
         "LG"
        ],
        [
         "Raja",
         "Oven",
         "Philipps"
        ],
        [
         "Raghav",
         "AC",
         "Samsung"
        ],
        [
         "Raghav",
         "Washing machine",
         "LG"
        ],
        [
         "Ram",
         "TV",
         ""
        ],
        [
         "Ram",
         "Grinder",
         "Preethi"
        ],
        [
         "Ramesh",
         "Refrigerator",
         "LG"
        ],
        [
         "Ramesh",
         "TV",
         "Croma"
        ],
        [
         "Rajesh",
         null,
         null
        ]
       ],
       "datasetInfos": [],
       "dbfsResultPath": null,
       "isJsonSchema": true,
       "metadata": {},
       "overflow": false,
       "plotOptions": {
        "customPlotOptions": {},
        "displayType": "table",
        "pivotAggregation": null,
        "pivotColumns": null,
        "xColumns": null,
        "yColumns": null
       },
       "removedWidgets": [],
       "schema": [
        {
         "metadata": "{}",
         "name": "name",
         "type": "\"string\""
        },
        {
         "metadata": "{}",
         "name": "key",
         "type": "\"string\""
        },
        {
         "metadata": "{}",
         "name": "value",
         "type": "\"string\""
        }
       ],
       "type": "table"
      }
     },
     "output_type": "display_data"
    }
   ],
   "source": [
    "from pyspark.sql.functions import explode_outer\n",
    "\n",
    "df_exp_outer_map = df_brand.select(df_brand.name, explode_outer(df_brand.Brand))\n",
    "\n",
    "df_brand.printSchema()\n",
    "df_exp_outer_map.printSchema()\n",
    "\n",
    "display(df_brand)\n",
    "display(df_exp_outer_map)\n"
   ]
  },
  {
   "cell_type": "markdown",
   "metadata": {
    "application/vnd.databricks.v1+cell": {
     "cellMetadata": {},
     "inputWidgets": {},
     "nuid": "37ca306e-5cee-4f9c-b57a-70463d12f317",
     "showTitle": false,
     "tableResultSettingsMap": {},
     "title": ""
    }
   },
   "source": [
    "##### Positional Explode"
   ]
  },
  {
   "cell_type": "code",
   "execution_count": 0,
   "metadata": {
    "application/vnd.databricks.v1+cell": {
     "cellMetadata": {
      "byteLimit": 2048000,
      "rowLimit": 10000
     },
     "inputWidgets": {},
     "nuid": "5ea20781-6b36-42c6-b6a6-4d217bceabd7",
     "showTitle": false,
     "tableResultSettingsMap": {},
     "title": ""
    }
   },
   "outputs": [
    {
     "output_type": "display_data",
     "data": {
      "text/html": [
       "<style scoped>\n",
       "  .table-result-container {\n",
       "    max-height: 300px;\n",
       "    overflow: auto;\n",
       "  }\n",
       "  table, th, td {\n",
       "    border: 1px solid black;\n",
       "    border-collapse: collapse;\n",
       "  }\n",
       "  th, td {\n",
       "    padding: 5px;\n",
       "  }\n",
       "  th {\n",
       "    text-align: left;\n",
       "  }\n",
       "</style><div class='table-result-container'><table class='table-result'><thead style='background-color: white'><tr><th>name</th><th>pos</th><th>col</th></tr></thead><tbody><tr><td>Raja</td><td>0</td><td>TV</td></tr><tr><td>Raja</td><td>1</td><td>Refrigerator</td></tr><tr><td>Raja</td><td>2</td><td>Oven</td></tr><tr><td>Raja</td><td>3</td><td>AC</td></tr><tr><td>Raghav</td><td>0</td><td>AC</td></tr><tr><td>Raghav</td><td>1</td><td>Washing machine</td></tr><tr><td>Raghav</td><td>2</td><td>null</td></tr><tr><td>Ram</td><td>0</td><td>Grinder</td></tr><tr><td>Ram</td><td>1</td><td>TV</td></tr><tr><td>Ramesh</td><td>0</td><td>Refrigerator</td></tr><tr><td>Ramesh</td><td>1</td><td>TV</td></tr><tr><td>Ramesh</td><td>2</td><td>null</td></tr></tbody></table></div>"
      ]
     },
     "metadata": {
      "application/vnd.databricks.v1+output": {
       "addedWidgets": {},
       "aggData": [],
       "aggError": "",
       "aggOverflow": false,
       "aggSchema": [],
       "aggSeriesLimitReached": false,
       "aggType": "",
       "arguments": {},
       "columnCustomDisplayInfos": {},
       "data": [
        [
         "Raja",
         0,
         "TV"
        ],
        [
         "Raja",
         1,
         "Refrigerator"
        ],
        [
         "Raja",
         2,
         "Oven"
        ],
        [
         "Raja",
         3,
         "AC"
        ],
        [
         "Raghav",
         0,
         "AC"
        ],
        [
         "Raghav",
         1,
         "Washing machine"
        ],
        [
         "Raghav",
         2,
         null
        ],
        [
         "Ram",
         0,
         "Grinder"
        ],
        [
         "Ram",
         1,
         "TV"
        ],
        [
         "Ramesh",
         0,
         "Refrigerator"
        ],
        [
         "Ramesh",
         1,
         "TV"
        ],
        [
         "Ramesh",
         2,
         null
        ]
       ],
       "datasetInfos": [],
       "dbfsResultPath": null,
       "isJsonSchema": true,
       "metadata": {},
       "overflow": false,
       "plotOptions": {
        "customPlotOptions": {},
        "displayType": "table",
        "pivotAggregation": null,
        "pivotColumns": null,
        "xColumns": null,
        "yColumns": null
       },
       "removedWidgets": [],
       "schema": [
        {
         "metadata": "{}",
         "name": "name",
         "type": "\"string\""
        },
        {
         "metadata": "{}",
         "name": "pos",
         "type": "\"integer\""
        },
        {
         "metadata": "{}",
         "name": "col",
         "type": "\"string\""
        }
       ],
       "type": "table"
      }
     },
     "output_type": "display_data"
    },
    {
     "output_type": "display_data",
     "data": {
      "text/html": [
       "<style scoped>\n",
       "  .table-result-container {\n",
       "    max-height: 300px;\n",
       "    overflow: auto;\n",
       "  }\n",
       "  table, th, td {\n",
       "    border: 1px solid black;\n",
       "    border-collapse: collapse;\n",
       "  }\n",
       "  th, td {\n",
       "    padding: 5px;\n",
       "  }\n",
       "  th {\n",
       "    text-align: left;\n",
       "  }\n",
       "</style><div class='table-result-container'><table class='table-result'><thead style='background-color: white'><tr><th>name</th><th>pos</th><th>key</th><th>value</th></tr></thead><tbody><tr><td>Raja</td><td>0</td><td>Refrigerator</td><td>Samsung</td></tr><tr><td>Raja</td><td>1</td><td>AC</td><td>Voltas</td></tr><tr><td>Raja</td><td>2</td><td>TV</td><td>LG</td></tr><tr><td>Raja</td><td>3</td><td>Oven</td><td>Philipps</td></tr><tr><td>Raghav</td><td>0</td><td>AC</td><td>Samsung</td></tr><tr><td>Raghav</td><td>1</td><td>Washing machine</td><td>LG</td></tr><tr><td>Ram</td><td>0</td><td>TV</td><td></td></tr><tr><td>Ram</td><td>1</td><td>Grinder</td><td>Preethi</td></tr><tr><td>Ramesh</td><td>0</td><td>Refrigerator</td><td>LG</td></tr><tr><td>Ramesh</td><td>1</td><td>TV</td><td>Croma</td></tr></tbody></table></div>"
      ]
     },
     "metadata": {
      "application/vnd.databricks.v1+output": {
       "addedWidgets": {},
       "aggData": [],
       "aggError": "",
       "aggOverflow": false,
       "aggSchema": [],
       "aggSeriesLimitReached": false,
       "aggType": "",
       "arguments": {},
       "columnCustomDisplayInfos": {},
       "data": [
        [
         "Raja",
         0,
         "Refrigerator",
         "Samsung"
        ],
        [
         "Raja",
         1,
         "AC",
         "Voltas"
        ],
        [
         "Raja",
         2,
         "TV",
         "LG"
        ],
        [
         "Raja",
         3,
         "Oven",
         "Philipps"
        ],
        [
         "Raghav",
         0,
         "AC",
         "Samsung"
        ],
        [
         "Raghav",
         1,
         "Washing machine",
         "LG"
        ],
        [
         "Ram",
         0,
         "TV",
         ""
        ],
        [
         "Ram",
         1,
         "Grinder",
         "Preethi"
        ],
        [
         "Ramesh",
         0,
         "Refrigerator",
         "LG"
        ],
        [
         "Ramesh",
         1,
         "TV",
         "Croma"
        ]
       ],
       "datasetInfos": [],
       "dbfsResultPath": null,
       "isJsonSchema": true,
       "metadata": {},
       "overflow": false,
       "plotOptions": {
        "customPlotOptions": {},
        "displayType": "table",
        "pivotAggregation": null,
        "pivotColumns": null,
        "xColumns": null,
        "yColumns": null
       },
       "removedWidgets": [],
       "schema": [
        {
         "metadata": "{}",
         "name": "name",
         "type": "\"string\""
        },
        {
         "metadata": "{}",
         "name": "pos",
         "type": "\"integer\""
        },
        {
         "metadata": "{}",
         "name": "key",
         "type": "\"string\""
        },
        {
         "metadata": "{}",
         "name": "value",
         "type": "\"string\""
        }
       ],
       "type": "table"
      }
     },
     "output_type": "display_data"
    }
   ],
   "source": [
    "from pyspark.sql.functions import posexplode\n",
    "\n",
    "display(df_app.select(df_app.name, posexplode(df_app.Appliances)))\n",
    "display(df_brand.select(df_brand.name, posexplode(df_brand.Brand)))"
   ]
  },
  {
   "cell_type": "markdown",
   "metadata": {
    "application/vnd.databricks.v1+cell": {
     "cellMetadata": {},
     "inputWidgets": {},
     "nuid": "88cdb6e8-c126-4696-ab89-569949ab8bc8",
     "showTitle": false,
     "tableResultSettingsMap": {},
     "title": ""
    }
   },
   "source": [
    "##### Positional explode using null"
   ]
  },
  {
   "cell_type": "code",
   "execution_count": 0,
   "metadata": {
    "application/vnd.databricks.v1+cell": {
     "cellMetadata": {
      "byteLimit": 2048000,
      "rowLimit": 10000
     },
     "inputWidgets": {},
     "nuid": "cebaa51b-9ee7-405f-8463-275bc5d37f77",
     "showTitle": false,
     "tableResultSettingsMap": {},
     "title": ""
    }
   },
   "outputs": [
    {
     "output_type": "display_data",
     "data": {
      "text/html": [
       "<style scoped>\n",
       "  .table-result-container {\n",
       "    max-height: 300px;\n",
       "    overflow: auto;\n",
       "  }\n",
       "  table, th, td {\n",
       "    border: 1px solid black;\n",
       "    border-collapse: collapse;\n",
       "  }\n",
       "  th, td {\n",
       "    padding: 5px;\n",
       "  }\n",
       "  th {\n",
       "    text-align: left;\n",
       "  }\n",
       "</style><div class='table-result-container'><table class='table-result'><thead style='background-color: white'><tr><th>name</th><th>pos</th><th>col</th></tr></thead><tbody><tr><td>Raja</td><td>0</td><td>TV</td></tr><tr><td>Raja</td><td>1</td><td>Refrigerator</td></tr><tr><td>Raja</td><td>2</td><td>Oven</td></tr><tr><td>Raja</td><td>3</td><td>AC</td></tr><tr><td>Raghav</td><td>0</td><td>AC</td></tr><tr><td>Raghav</td><td>1</td><td>Washing machine</td></tr><tr><td>Raghav</td><td>2</td><td>null</td></tr><tr><td>Ram</td><td>0</td><td>Grinder</td></tr><tr><td>Ram</td><td>1</td><td>TV</td></tr><tr><td>Ramesh</td><td>0</td><td>Refrigerator</td></tr><tr><td>Ramesh</td><td>1</td><td>TV</td></tr><tr><td>Ramesh</td><td>2</td><td>null</td></tr><tr><td>Rajesh</td><td>null</td><td>null</td></tr></tbody></table></div>"
      ]
     },
     "metadata": {
      "application/vnd.databricks.v1+output": {
       "addedWidgets": {},
       "aggData": [],
       "aggError": "",
       "aggOverflow": false,
       "aggSchema": [],
       "aggSeriesLimitReached": false,
       "aggType": "",
       "arguments": {},
       "columnCustomDisplayInfos": {},
       "data": [
        [
         "Raja",
         0,
         "TV"
        ],
        [
         "Raja",
         1,
         "Refrigerator"
        ],
        [
         "Raja",
         2,
         "Oven"
        ],
        [
         "Raja",
         3,
         "AC"
        ],
        [
         "Raghav",
         0,
         "AC"
        ],
        [
         "Raghav",
         1,
         "Washing machine"
        ],
        [
         "Raghav",
         2,
         null
        ],
        [
         "Ram",
         0,
         "Grinder"
        ],
        [
         "Ram",
         1,
         "TV"
        ],
        [
         "Ramesh",
         0,
         "Refrigerator"
        ],
        [
         "Ramesh",
         1,
         "TV"
        ],
        [
         "Ramesh",
         2,
         null
        ],
        [
         "Rajesh",
         null,
         null
        ]
       ],
       "datasetInfos": [],
       "dbfsResultPath": null,
       "isJsonSchema": true,
       "metadata": {},
       "overflow": false,
       "plotOptions": {
        "customPlotOptions": {},
        "displayType": "table",
        "pivotAggregation": null,
        "pivotColumns": null,
        "xColumns": null,
        "yColumns": null
       },
       "removedWidgets": [],
       "schema": [
        {
         "metadata": "{}",
         "name": "name",
         "type": "\"string\""
        },
        {
         "metadata": "{}",
         "name": "pos",
         "type": "\"integer\""
        },
        {
         "metadata": "{}",
         "name": "col",
         "type": "\"string\""
        }
       ],
       "type": "table"
      }
     },
     "output_type": "display_data"
    },
    {
     "output_type": "display_data",
     "data": {
      "text/html": [
       "<style scoped>\n",
       "  .table-result-container {\n",
       "    max-height: 300px;\n",
       "    overflow: auto;\n",
       "  }\n",
       "  table, th, td {\n",
       "    border: 1px solid black;\n",
       "    border-collapse: collapse;\n",
       "  }\n",
       "  th, td {\n",
       "    padding: 5px;\n",
       "  }\n",
       "  th {\n",
       "    text-align: left;\n",
       "  }\n",
       "</style><div class='table-result-container'><table class='table-result'><thead style='background-color: white'><tr><th>name</th><th>pos</th><th>key</th><th>value</th></tr></thead><tbody><tr><td>Raja</td><td>0</td><td>Refrigerator</td><td>Samsung</td></tr><tr><td>Raja</td><td>1</td><td>AC</td><td>Voltas</td></tr><tr><td>Raja</td><td>2</td><td>TV</td><td>LG</td></tr><tr><td>Raja</td><td>3</td><td>Oven</td><td>Philipps</td></tr><tr><td>Raghav</td><td>0</td><td>AC</td><td>Samsung</td></tr><tr><td>Raghav</td><td>1</td><td>Washing machine</td><td>LG</td></tr><tr><td>Ram</td><td>0</td><td>TV</td><td></td></tr><tr><td>Ram</td><td>1</td><td>Grinder</td><td>Preethi</td></tr><tr><td>Ramesh</td><td>0</td><td>Refrigerator</td><td>LG</td></tr><tr><td>Ramesh</td><td>1</td><td>TV</td><td>Croma</td></tr><tr><td>Rajesh</td><td>null</td><td>null</td><td>null</td></tr></tbody></table></div>"
      ]
     },
     "metadata": {
      "application/vnd.databricks.v1+output": {
       "addedWidgets": {},
       "aggData": [],
       "aggError": "",
       "aggOverflow": false,
       "aggSchema": [],
       "aggSeriesLimitReached": false,
       "aggType": "",
       "arguments": {},
       "columnCustomDisplayInfos": {},
       "data": [
        [
         "Raja",
         0,
         "Refrigerator",
         "Samsung"
        ],
        [
         "Raja",
         1,
         "AC",
         "Voltas"
        ],
        [
         "Raja",
         2,
         "TV",
         "LG"
        ],
        [
         "Raja",
         3,
         "Oven",
         "Philipps"
        ],
        [
         "Raghav",
         0,
         "AC",
         "Samsung"
        ],
        [
         "Raghav",
         1,
         "Washing machine",
         "LG"
        ],
        [
         "Ram",
         0,
         "TV",
         ""
        ],
        [
         "Ram",
         1,
         "Grinder",
         "Preethi"
        ],
        [
         "Ramesh",
         0,
         "Refrigerator",
         "LG"
        ],
        [
         "Ramesh",
         1,
         "TV",
         "Croma"
        ],
        [
         "Rajesh",
         null,
         null,
         null
        ]
       ],
       "datasetInfos": [],
       "dbfsResultPath": null,
       "isJsonSchema": true,
       "metadata": {},
       "overflow": false,
       "plotOptions": {
        "customPlotOptions": {},
        "displayType": "table",
        "pivotAggregation": null,
        "pivotColumns": null,
        "xColumns": null,
        "yColumns": null
       },
       "removedWidgets": [],
       "schema": [
        {
         "metadata": "{}",
         "name": "name",
         "type": "\"string\""
        },
        {
         "metadata": "{}",
         "name": "pos",
         "type": "\"integer\""
        },
        {
         "metadata": "{}",
         "name": "key",
         "type": "\"string\""
        },
        {
         "metadata": "{}",
         "name": "value",
         "type": "\"string\""
        }
       ],
       "type": "table"
      }
     },
     "output_type": "display_data"
    }
   ],
   "source": [
    "from pyspark.sql.functions import posexplode_outer\n",
    "\n",
    "display(df_app.select(df_app.name, posexplode_outer(df_app.Appliances)))\n",
    "display(df_brand.select(df_brand.name, posexplode_outer(df_brand.Brand)))"
   ]
  }
 ],
 "metadata": {
  "application/vnd.databricks.v1+notebook": {
   "dashboards": [],
   "environmentMetadata": null,
   "language": "python",
   "notebookMetadata": {
    "pythonIndentUnit": 4
   },
   "notebookName": "09_explode",
   "widgets": {}
  }
 },
 "nbformat": 4,
 "nbformat_minor": 0
}
